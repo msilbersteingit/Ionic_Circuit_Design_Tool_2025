{
 "cells": [
  {
   "cell_type": "markdown",
   "id": "61e8ada6-6365-4b02-941a-c8a9bf39ab83",
   "metadata": {},
   "source": [
    "# Imports"
   ]
  },
  {
   "cell_type": "code",
   "execution_count": null,
   "id": "536bfd76-7461-4bc3-9108-ecb5b57e44d9",
   "metadata": {
    "editable": true,
    "slideshow": {
     "slide_type": ""
    },
    "tags": []
   },
   "outputs": [],
   "source": [
    "import os\n",
    "\n",
    "import plotting.plots\n",
    "import bokeh.io\n",
    "import bokeh.models\n",
    "import bokeh.plotting\n",
    "import bokeh.themes\n",
    "\n",
    "import matplotlib.pyplot as plt\n",
    "\n",
    "import pandas as pd\n",
    "import numpy as np\n",
    "import OMPython\n",
    "\n",
    "import tables\n",
    "import warnings\n",
    "warnings.filterwarnings('ignore', category=tables.NaturalNameWarning)\n",
    "\n",
    "import time\n",
    "\n",
    "import scipy.io\n",
    "import scipy.optimize\n",
    "bokeh.io.output_notebook()"
   ]
  },
  {
   "cell_type": "markdown",
   "id": "f1aafd57-3652-46ad-802c-b3b2fbd93035",
   "metadata": {},
   "source": [
    "# Setup"
   ]
  },
  {
   "cell_type": "code",
   "execution_count": null,
   "id": "b2ecf610-6e09-4c42-af0a-6cc7780234bb",
   "metadata": {
    "editable": true,
    "slideshow": {
     "slide_type": ""
    },
    "tags": []
   },
   "outputs": [],
   "source": [
    "omc = OMPython.OMCSessionZMQ()\n",
    "omc.sendExpression('getVersion()')"
   ]
  },
  {
   "cell_type": "code",
   "execution_count": null,
   "id": "9f9d4d10-63f1-4285-877c-d1b383b725e3",
   "metadata": {},
   "outputs": [],
   "source": [
    "font_size = '8pt'\n",
    "theme  = {\n",
    "    'attrs' : {\n",
    "        'Plot': {\n",
    "            'output_backend': 'svg',\n",
    "        },\n",
    "        'Axis': {\n",
    "            'major_label_text_font_size': font_size,\n",
    "            'axis_label_text_font_size': font_size,\n",
    "            'minor_tick_in': 4,\n",
    "            'minor_tick_out': 0,\n",
    "            'major_tick_in': 8,\n",
    "            'major_tick_out': 2,\n",
    "        },\n",
    "        'Grid': {\n",
    "        },\n",
    "        'Title': {\n",
    "        },\n",
    "        'Legend':{\n",
    "            'label_text_font_size': '8pt',\n",
    "            #'padding': 5\n",
    "        },\n",
    "        'BasicTickFormatter':{\n",
    "            'precision': 2\n",
    "        },\n",
    "        'Line':{\n",
    "            'line_width': 2\n",
    "        }\n",
    "    }\n",
    "}\n",
    "\n",
    "bokeh.plotting.curdoc().theme = bokeh.themes.Theme(json = theme)\n"
   ]
  },
  {
   "cell_type": "code",
   "execution_count": null,
   "id": "fa2f9ee8-b95a-4105-a9e2-cbbc35900d7d",
   "metadata": {},
   "outputs": [],
   "source": [
    "simulation_summary_filepath = './Simulation Datafiles/Simulation_Summaries.h5'\n",
    "\n",
    "if os.path.isfile(simulation_summary_filepath):\n",
    "    with pd.HDFStore(simulation_summary_filepath) as store:\n",
    "        simulation_summaries = store['summary']\n",
    "else:\n",
    "    simulation_summaries = pd.DataFrame({'Simulation Class': pd.Series(dtype='str'),\n",
    "                                         'Indentifier': pd.Series(dtype='str'),\n",
    "                                         'resultFile': pd.Series(dtype='str'),\n",
    "                                         'simulationOptions': pd.Series(dtype='str'),\n",
    "                                         'timeFrontend': pd.Series(dtype='float'),\n",
    "                                         'timeBackend': pd.Series(dtype='float'),\n",
    "                                         'timeSimCode': pd.Series(dtype='float'),\n",
    "                                         'timeTemplates': pd.Series(dtype='float'),\n",
    "                                         'timeCompile': pd.Series(dtype='float'),\n",
    "                                         'timeSimulation': pd.Series(dtype='float'),\n",
    "                                         'timeTotal': pd.Series(dtype='float')})\n",
    "    \n",
    "    simulation_summaries = simulation_summaries.set_index(['Simulation Class', 'Indentifier'])\n",
    "    simulation_summaries.to_hdf(simulation_summary_filepath, key = 'summary')\n",
    "\n",
    "def save_results_properties(results_dict, class_name, identifier):\n",
    "    simulation_summaries.loc[(class_name, identifier), :] = results_dict\n",
    "    simulation_summaries.to_hdf(simulation_summary_filepath, key = 'summary')"
   ]
  },
  {
   "cell_type": "markdown",
   "id": "5aae4c02-2776-467e-b120-a7affc3025e5",
   "metadata": {},
   "source": [
    "# Helper Functions"
   ]
  },
  {
   "cell_type": "code",
   "execution_count": null,
   "id": "cf35de97-143f-46c0-89e2-ea00086605eb",
   "metadata": {},
   "outputs": [],
   "source": [
    "\n",
    "def transpose_char_array_to_string(array):\n",
    "    return array.transpose().copy().view(f'<U{array.shape[0]}').squeeze(axis=1)\n",
    "    \n",
    "\n",
    "def parse_omc_mat(filepath, as_pandas = True):\n",
    "    data = scipy.io.loadmat(filepath,\n",
    "                            chars_as_strings = False\n",
    "                           )\n",
    "\n",
    "    data['name'] = transpose_char_array_to_string(data['name'])\n",
    "    data['description'] = transpose_char_array_to_string(data['description'])\n",
    "\n",
    "    series_dict = {}\n",
    "    parameters = {}\n",
    "    for i, name in enumerate(data['name']):\n",
    "        if data['dataInfo'][0, i] in [0,2]:\n",
    "            #We have a time series variable\n",
    "            index = data['dataInfo'][1, i]\n",
    "            series_dict[name] =  np.sign(index)*data['data_2'][np.abs(index)-1]\n",
    "        else:\n",
    "            index = data['dataInfo'][1, i]\n",
    "            parameters[name] =  np.sign(index)*data['data_1'][np.abs(index)-1][0]\n",
    "    \n",
    "    if as_pandas:\n",
    "        timeseries = pd.DataFrame.from_dict(series_dict).set_index('time')\n",
    "    else:\n",
    "        timeseries = series_dict\n",
    "        \n",
    "    return timeseries, parameters\n"
   ]
  },
  {
   "cell_type": "code",
   "execution_count": null,
   "id": "d6a86400-a541-4c56-894e-7fc9b3ce8eeb",
   "metadata": {},
   "outputs": [],
   "source": [
    "def reload_omc():\n",
    "    omc.sendExpression(\"clear()\")\n",
    "    omc.sendExpression('cd(\"./Simulation_Temp/\")')\n",
    "    omc.loadFile('../Modelica/Ionics 0.1.0.om/package.mo')\n",
    "    omc.loadFile('../Modelica/LiteratureComparison/package.mo')\n",
    "    omc.loadFile('../Modelica/NovelCircuitry/package.mo')"
   ]
  },
  {
   "cell_type": "markdown",
   "id": "9c4d84c3-ec9f-49fb-85df-2ae88c292cc0",
   "metadata": {},
   "source": [
    "# Run Simulations"
   ]
  },
  {
   "cell_type": "markdown",
   "id": "cba4cf51-37a4-4488-a453-c3b1ebfed502",
   "metadata": {},
   "source": [
    "## Berggren"
   ]
  },
  {
   "cell_type": "markdown",
   "id": "731949d0-d73d-4095-8b1b-a544a46ef228",
   "metadata": {},
   "source": [
    "### Single Diode"
   ]
  },
  {
   "cell_type": "code",
   "execution_count": null,
   "id": "cddac432-7ccc-415e-a064-936a733674cd",
   "metadata": {
    "editable": true,
    "slideshow": {
     "slide_type": ""
    },
    "tags": []
   },
   "outputs": [],
   "source": [
    "reload_omc()"
   ]
  },
  {
   "cell_type": "markdown",
   "id": "3daed5cb-0205-4c2e-b9fc-6f3c2fdcc737",
   "metadata": {},
   "source": [
    "#### Optimization"
   ]
  },
  {
   "cell_type": "raw",
   "id": "5d220cca-6183-4a99-93b7-364558d84b9e",
   "metadata": {},
   "source": [
    "# Get default values for parameters\n",
    "reverse_duration = float(omc.sendExpression('getParameterValue(LiteratureComparison.Berggren.Experiments.Diode_steps, \"reverse_duration\")'))\n",
    "forward_duration = float(omc.sendExpression('getParameterValue(LiteratureComparison.Berggren.Experiments.Diode_steps, \"forward_duration\")'))\n",
    "equilibration_duration = float(omc.sendExpression('getParameterValue(LiteratureComparison.Berggren.Experiments.Diode_steps, \"equilibration_duration\")'))\n",
    "transition_duration = float(omc.sendExpression('getParameterValue(LiteratureComparison.Berggren.Experiments.Diode_steps, \"transition_duration\")'))"
   ]
  },
  {
   "cell_type": "raw",
   "id": "8aef84c3-e657-49e7-b61f-4ae106d60db2",
   "metadata": {
    "jp-MarkdownHeadingCollapsed": true
   },
   "source": [
    "# Read in literature values:\n",
    "data_berggren = pd.read_excel('/home/max/Research/Papers/Electrode Influence Letter/Experimental Data/berggren_data/fig3.xlsx',\n",
    "                              header=[0,1],\n",
    "                              index_col = 0,\n",
    "                              decimal=',')"
   ]
  },
  {
   "cell_type": "raw",
   "id": "f2af3ea9-8555-4473-b9da-22fd45b31260",
   "metadata": {},
   "source": [
    "def optimize_fun(x):\n",
    "    print(x)\n",
    "    \n",
    "    forward_duration = 90\n",
    "    D_multiplier_polyanion = x[0]\n",
    "    D_multiplier_polycation = x[1]\n",
    "    film_thickness_polyanion = x[2]\n",
    "    film_thickness_polycation = x[3]\n",
    "\n",
    "    if len(x) > 4:\n",
    "        q_fixed_polyanion = x[4] \n",
    "        q_fixed_polycation = x[5]\n",
    "        omc.sendExpression(f'OpenModelica.Scripting.setExtendsModifierValue(LiteratureComparison.Berggren.Materials.PEDOT_PSS, Ionics.Materials.Aqeous, q_fixed, $Code(=Modelica.Constants.F*({q_fixed_polyanion})))')\n",
    "        omc.sendExpression(f'OpenModelica.Scripting.setExtendsModifierValue(LiteratureComparison.Berggren.Materials.pVBPPh3, Ionics.Materials.Aqeous, q_fixed, $Code(=Modelica.Constants.F*({q_fixed_polycation})))')\n",
    "    \n",
    "    \n",
    "    reverse_duration = 120\n",
    "    \n",
    "    omc.sendExpression(f'setParameterValue(LiteratureComparison.Berggren.Experiments.Diode_steps, forward_duration, {forward_duration})')\n",
    "    omc.sendExpression(f'setParameterValue(LiteratureComparison.Berggren.Experiments.Diode_steps, reverse_duration, {reverse_duration})')\n",
    "    \n",
    "    omc.sendExpression(f'OpenModelica.Scripting.setExtendsModifierValue(LiteratureComparison.Berggren.Materials.PEDOT_PSS, Ionics.Materials.Aqeous, D_multiplier, $Code(={D_multiplier_polyanion}))')\n",
    "    omc.sendExpression(f'OpenModelica.Scripting.setExtendsModifierValue(LiteratureComparison.Berggren.Materials.pVBPPh3, Ionics.Materials.Aqeous, D_multiplier, $Code(={D_multiplier_polycation}))')\n",
    "\n",
    "    \n",
    "    #omc.sendExpression(f'setElementModifierValue(LiteratureComparison.Berggren.Experiments.Diode_steps, diode.D_multiplier_polyanion, $Code(={D_multiplier_polyanion}))')\n",
    "    #omc.sendExpression(f'setElementModifierValue(LiteratureComparison.Berggren.Experiments.Diode_steps, diode.D_multiplier_polycation, $Code(={D_multiplier_polycation}))')\n",
    "    omc.sendExpression(f'setElementModifierValue(LiteratureComparison.Berggren.Experiments.Diode_steps, diode.film_thickness_polyanion, $Code(={film_thickness_polyanion}))')\n",
    "    omc.sendExpression(f'setElementModifierValue(LiteratureComparison.Berggren.Experiments.Diode_steps, diode.film_thickness_polycation, $Code(={film_thickness_polycation}))')\n",
    "\n",
    "    time_stop = equilibration_duration + reverse_duration*2 + forward_duration\n",
    "    result_message = omc.sendExpression(f'simulate(LiteratureComparison.Berggren.Experiments.Diode_steps, stopTime={time_stop}, simflags=\"-noEquidistantTimeGrid -nls=kinsol -w -lv=LOG_SUCCESS\")')\n",
    "\n",
    "    print(result_message['messages'])\n",
    "\n",
    "    time.sleep(1)\n",
    "    result = parse_omc_mat('Simulation_Temp/LiteratureComparison.Berggren.Experiments.Diode_steps_res.mat',\n",
    "                           as_pandas=False)\n",
    "\n",
    "    time_berggren = data_berggren[('BM1P', 'Current (A).5')].index.to_numpy()\n",
    "\n",
    "    # Remove nan from time and current\n",
    "    index_not_nan = ~np.isnan(time_berggren)\n",
    "    time_berggren = time_berggren[index_not_nan]\n",
    "    current_berggren = data_berggren[('BM1P', 'Current (A).5')].to_numpy()[index_not_nan]\n",
    "\n",
    "    time_offset = equilibration_duration + reverse_duration + forward_duration\n",
    "    current_interpolated = np.interp(time_berggren, result[0]['time'] - time_offset, result[0]['diode.i'])\n",
    "\n",
    "    residual = (current_interpolated - current_berggren)/np.max(current_interpolated)\n",
    "\n",
    "    #Ignore between 0 and 3 seconds so we don't include the spike\n",
    "    index_time_ignore_begin = np.searchsorted(time_berggren, -1)\n",
    "    index_time_ignore_end = np.searchsorted(time_berggren, 3.0)\n",
    "\n",
    "    residual[index_time_ignore_begin:index_time_ignore_end] = 0\n",
    "\n",
    "    #Ignore between where the forward bias starts so we don't include the spike\n",
    "    index_time_ignore_begin = np.searchsorted(time_berggren,  -forward_duration - 1)\n",
    "    index_time_ignore_end = np.searchsorted(time_berggren, -forward_duration + 4)\n",
    "\n",
    "    residual[index_time_ignore_begin:index_time_ignore_end] = 0\n",
    "\n",
    "    \n",
    "    plt.plot(current_interpolated)\n",
    "    plt.plot(current_berggren)\n",
    "    plt.plot(residual*np.max(current_interpolated))\n",
    "    plt.show()\n",
    "    return residual\n",
    "    \n"
   ]
  },
  {
   "cell_type": "raw",
   "id": "43c711c4-5e7e-4b46-b9f1-0b78f86408e3",
   "metadata": {},
   "source": [
    "x_initial = [5.5e-1, 4.2e-3, 0.3e-6, 5.0e-6]"
   ]
  },
  {
   "cell_type": "raw",
   "id": "895b67b2-cf13-49d9-9a20-1abd56fd01b3",
   "metadata": {
    "scrolled": true
   },
   "source": [
    "residual = optimize_fun(x_initial)"
   ]
  },
  {
   "cell_type": "raw",
   "id": "16d159d2-7096-4320-a0b9-ed2950dc10b4",
   "metadata": {
    "scrolled": true
   },
   "source": [
    "optimized_solution_a = scipy.optimize.least_squares(optimize_fun,\n",
    "                                                    x_initial,\n",
    "                                                    max_nfev=100,\n",
    "                                                    x_scale=x_initial,\n",
    "                                                    bounds=([1e-3, 1e-3, 1e-7, 1e-7],\n",
    "                                                          [1, 1, 10e-6, 20e-6]),\n",
    "                                                    diff_step=0.01,\n",
    "                                                    loss='soft_l1')"
   ]
  },
  {
   "cell_type": "raw",
   "id": "c4b2c0d1-e637-4fc9-a487-0b72c607d175",
   "metadata": {},
   "source": [
    "x_initial_b = [4.34489582e-01, 3.18919778e-03, 1.79623238e-07, 8.46161588e-06, -1000, 3000]\n",
    "residual_b = optimize_fun(x_initial_b)"
   ]
  },
  {
   "cell_type": "raw",
   "id": "6ea5d336-df1c-4a2d-a34f-a1d50c14eb4c",
   "metadata": {
    "scrolled": true
   },
   "source": [
    "optimized_solution_b = scipy.optimize.least_squares(optimize_fun,\n",
    "                                                    x_initial_b,\n",
    "                                                    max_nfev=100,\n",
    "                                                    x_scale=np.abs(x_initial_b),\n",
    "                                                    bounds=([1e-3, 1e-3, 1e-7, 1e-7, -3000, 500],\n",
    "                                                          [1, 1, 10e-6, 20e-6, -500, 3000]),\n",
    "                                                    diff_step=0.01,\n",
    "                                                    loss='soft_l1')"
   ]
  },
  {
   "cell_type": "raw",
   "id": "06b56300-c482-4e29-981d-4fb7ce8bfa26",
   "metadata": {},
   "source": [
    "x_final = [4.25489582e-01, 3.18919778e-03, 1.79623238e-07, 8.46161588e-06]\n",
    "residual_final = optimize_fun(x_final)"
   ]
  },
  {
   "cell_type": "markdown",
   "id": "4b428ccd-7bb7-4643-821d-c297ede2b6d0",
   "metadata": {},
   "source": [
    "#### Simulate Literature Trials"
   ]
  },
  {
   "cell_type": "code",
   "execution_count": null,
   "id": "26723b93-ae42-4b49-b073-553a1da82dbc",
   "metadata": {},
   "outputs": [],
   "source": [
    "# Get default values for parameters\n",
    "reverse_duration = float(omc.sendExpression('getParameterValue(LiteratureComparison.Berggren.Experiments.Diode_steps, \"reverse_duration\")'))\n",
    "forward_duration = float(omc.sendExpression('getParameterValue(LiteratureComparison.Berggren.Experiments.Diode_steps, \"forward_duration\")'))\n",
    "equilibration_duration = float(omc.sendExpression('getParameterValue(LiteratureComparison.Berggren.Experiments.Diode_steps, \"equilibration_duration\")'))\n",
    "transition_duration = float(omc.sendExpression('getParameterValue(LiteratureComparison.Berggren.Experiments.Diode_steps, \"transition_duration\")'))"
   ]
  },
  {
   "cell_type": "code",
   "execution_count": null,
   "id": "eebd174b-2053-4a5e-97b1-bbee5dd84557",
   "metadata": {},
   "outputs": [],
   "source": [
    "forward_durations = [5, 10, 20, 30, 60, 90]\n",
    "#forward_durations = [90]\n",
    "\n",
    "results = {}\n",
    "\n",
    "#x = optimized_solution.x\n",
    "#x = [1.506e-3, 2e-1, 30e-6, 0.4e-6] #30 micron PEDOT:PSS\n",
    "\n",
    "# constant Real D_multiplier_polyanion = 2e-3;\n",
    "# constant Real D_multiplier_polycation = 1.0;\n",
    "\n",
    "# parameter Real film_thickness_polyanion = 9.0e-6;\n",
    "# parameter Real film_thickness_polycation = 0.1e-6;\n",
    "\n",
    "#x = [0.84e-3, 2e-1, 60e-6, 0.4e-6] #60 micron PEDOT:PSS Old best fit\n",
    "#x = [2.0e-3, 4.5e-1, 9.0e-6, 0.2e-6] #9 micron PEDOT:PSS, charge 4000 1000\n",
    "x = [4.0e-1, 4.0e-3, 0.3e-6, 5.0e-6] #300 nanometer PEDOT:PSS, charge 1000 3000\n",
    "\n",
    "D_multiplier_polyanion = x[0];\n",
    "D_multiplier_polycation = x[1];\n",
    "film_thickness_polyanion = x[2];\n",
    "film_thickness_polycation = x[3];\n",
    "\n",
    "reverse_duration = 120   \n",
    "omc.sendExpression(f'setParameterValue(LiteratureComparison.Berggren.Experiments.Diode_steps, reverse_duration, {reverse_duration})')\n",
    "    \n",
    "#omc.sendExpression(f'setElementModifierValue(LiteratureComparison.Berggren.Experiments.Diode_steps, diode.D_multiplier_polyanion, $Code(={D_multiplier_polyanion}))')\n",
    "#omc.sendExpression(f'setElementModifierValue(LiteratureComparison.Berggren.Experiments.Diode_steps, diode.D_multiplier_polycation, $Code(={D_multiplier_polycation}))')\n",
    "#omc.sendExpression(f'setElementModifierValue(LiteratureComparison.Berggren.Experiments.Diode_steps, diode.film_thickness_polyanion, $Code(={film_thickness_polyanion}))')\n",
    "#omc.sendExpression(f'setElementModifierValue(LiteratureComparison.Berggren.Experiments.Diode_steps, diode.film_thickness_polycation, $Code(={film_thickness_polycation}))')\n",
    "\n",
    "filepath = './Simulation Datafiles/Berggren_Single_Diode_Duration_Sweep.h5'\n",
    "\n",
    "with pd.HDFStore(filepath, mode='w') as store:\n",
    "    for forward_duration in forward_durations:\n",
    "    \n",
    "        print(f'Simulating duration {forward_duration}')\n",
    "\n",
    "        class_name = 'LiteratureComparison.Berggren.Experiments.Diode_steps'\n",
    "        \n",
    "        omc.sendExpression(f'setParameterValue({class_name}, forward_duration, {forward_duration})')\n",
    "    \n",
    "        time_stop = equilibration_duration + reverse_duration*2 + forward_duration\n",
    "\n",
    "        flags_compile = '--matchingAlgorithm=PFPlusExt --indexReductionMethod=dynamicStateSelection -d=initialization,evaluateAllParameters,NLSanalyticJacobian --generateSymbolicJacobian'\n",
    "        flags_sim = '-noEquidistantTimeGrid -nls=kinsol -w -lv=LOG_STDOUT,LOG_ASSERT,LOG_EVENTS,LOG_STATS -jacobian=coloredSymbolical'\n",
    "    \n",
    "        result_dict = omc.sendExpression(f'simulate({class_name}, stopTime={time_stop}, options=\"{flags_compile}\", simflags=\"{flags_sim}\")')\n",
    "        \n",
    "        save_results_properties(result_dict,\n",
    "                                class_name,\n",
    "                                f'Duration = {forward_duration}'\n",
    "                               )\n",
    "        \n",
    "        results[forward_duration] = parse_omc_mat(f'Simulation_Temp/{class_name}_res.mat')\n",
    "\n",
    "        store[f'Simulation_Duration_{forward_duration}/timeseries'] = results[forward_duration][0]\n",
    "        store[f'Simulation_Duration_{forward_duration}/parameters'] = pd.DataFrame.from_dict(results[forward_duration][1], orient='index', columns=['value'])\n",
    "\n",
    "        node = store.get_node(f'Simulation_Duration_{forward_duration}')\n",
    "        tables.Array(node, 'forward_duration', forward_duration)\n",
    "    \n",
    "    "
   ]
  },
  {
   "cell_type": "markdown",
   "id": "447a1c52-95fa-40e5-8952-f37f09fe0756",
   "metadata": {},
   "source": [
    "### Full Wave Rectifier"
   ]
  },
  {
   "cell_type": "code",
   "execution_count": null,
   "id": "97adbc38-0ae6-4c92-b022-7baa17a52c31",
   "metadata": {},
   "outputs": [],
   "source": [
    "reload_omc()"
   ]
  },
  {
   "cell_type": "code",
   "execution_count": null,
   "id": "ff3d2474-f9f9-47e7-bf29-cb03a7afc10f",
   "metadata": {},
   "outputs": [],
   "source": [
    "#results = {}\n",
    "\n",
    "filepath = './Simulation Datafiles/Berggren_Full_Wave.h5'\n",
    "\n",
    "with pd.HDFStore(filepath) as store:\n",
    "\n",
    "    class_name = 'LiteratureComparison.Berggren.Experiments.FullRectifier'\n",
    "\n",
    "    flags_compile = '--matchingAlgorithm=PFPlusExt --indexReductionMethod=dynamicStateSelection -d=initialization,evaluateAllParameters,NLSanalyticJacobian --generateSymbolicJacobian'\n",
    "    flags_sim = '-noEquidistantTimeGrid -nls=kinsol -w -lv=LOG_STDOUT,LOG_ASSERT,LOG_EVENTS,LOG_STATS -jacobian=coloredSymbolical'\n",
    "    \n",
    "    result_dict = omc.sendExpression(f'simulate({class_name}, options=\"{flags_compile}\", simflags=\"{flags_sim}\")')\n",
    "    save_results_properties(result_dict,\n",
    "                        class_name,\n",
    "                        ''\n",
    "                       )\n",
    "\n",
    "    results = parse_omc_mat(f'Simulation_Temp/{class_name}_res.mat')\n",
    "\n",
    "\n",
    "    \n",
    "    store[f'Simulation/timeseries'] = results[0]\n",
    "    store[f'Simulation/parameters'] = pd.DataFrame.from_dict(results[1], orient='index', columns=['value'])\n",
    "\n",
    "    "
   ]
  },
  {
   "cell_type": "markdown",
   "id": "68e3fd47-70a4-45df-b222-fb6ab505b257",
   "metadata": {},
   "source": [
    "## Yossifon"
   ]
  },
  {
   "cell_type": "markdown",
   "id": "fd1fb7ba-1a58-4d84-a6d9-9a6b1cf2aad1",
   "metadata": {},
   "source": [
    "### Single Diode"
   ]
  },
  {
   "cell_type": "markdown",
   "id": "76ef44d0-161c-4d96-9646-bb9ca58f648a",
   "metadata": {},
   "source": [
    "#### Optimization"
   ]
  },
  {
   "cell_type": "raw",
   "id": "dc53d014-f999-4502-8822-904baa9d66a8",
   "metadata": {},
   "source": [
    "reload_omc()"
   ]
  },
  {
   "cell_type": "raw",
   "id": "543e149f-3725-499c-841c-85d3e491187e",
   "metadata": {},
   "source": [
    "# Read in literature values:\n",
    "data_yossifon = pd.read_csv('./Literature Data/Yossifon Single Diode/Current vs Time.csv', names=['time', 'current'])"
   ]
  },
  {
   "cell_type": "raw",
   "id": "30bf1d24-d091-49cb-9e00-01e40627b099",
   "metadata": {},
   "source": [
    "def optimize_fun(x):\n",
    "    print(x)\n",
    "\n",
    "    F = 9.64853321e4\n",
    "    F\n",
    "\n",
    "    bath_length = x[0]\n",
    "    wedge_length_polyanion = x[1]\n",
    "    wedge_length_polycation = x[2]\n",
    "    charge_polyanion = x[3]*F\n",
    "    charge_polycation = x[4]*F\n",
    "    D_multiplier_polyanion = x[5]\n",
    "    D_multiplier_polycation = x[6]\n",
    "    \n",
    "    # if len(x) > 4:\n",
    "    #     q_fixed_polyanion = x[4] \n",
    "    #     q_fixed_polycation = x[5]\n",
    "    #     omc.sendExpression(f'OpenModelica.Scripting.setExtendsModifierValue(LiteratureComparison.Berggren.Materials.PEDOT_PSS, Ionics.Materials.Aqeous, q_fixed, $Code(=Modelica.Constants.F*({q_fixed_polyanion})))')\n",
    "    #     omc.sendExpression(f'OpenModelica.Scripting.setExtendsModifierValue(LiteratureComparison.Berggren.Materials.pVBPPh3, Ionics.Materials.Aqeous, q_fixed, $Code(=Modelica.Constants.F*({q_fixed_polycation})))')\n",
    "    \n",
    "\n",
    "    h = 25e-6\n",
    "    root2 = 2**0.5\n",
    "    b = 800e-6\n",
    "\n",
    "    # Set the lengths\n",
    "    omc.sendExpression(f'setElementModifierValue(LiteratureComparison.Yossifon.Diode, polyanion_thin.length, $Code(={wedge_length_polyanion/2}))')\n",
    "    omc.sendExpression(f'setElementModifierValue(LiteratureComparison.Yossifon.Diode, polyanion_thick.length, $Code(={wedge_length_polyanion/2}))')\n",
    "    omc.sendExpression(f'setElementModifierValue(LiteratureComparison.Yossifon.Diode, polycation_thin.length, $Code(={wedge_length_polycation/2}))')\n",
    "    omc.sendExpression(f'setElementModifierValue(LiteratureComparison.Yossifon.Diode, polycation_thick.length, $Code(={wedge_length_polycation/2}))')\n",
    "    omc.sendExpression(f'setElementModifierValue(LiteratureComparison.Yossifon.Diode, bath_a.length, $Code(={bath_length}))')\n",
    "    omc.sendExpression(f'setElementModifierValue(LiteratureComparison.Yossifon.Diode, bath_b.length, $Code(={bath_length}))')\n",
    " \n",
    "    # Compute and set the the widths based on a trapezoid\n",
    "    omc.sendExpression(f'setElementModifierValue(LiteratureComparison.Yossifon.Diode, polyanion_thin.area, $Code(={h*(b + wedge_length_polyanion*root2/4)}))')\n",
    "    omc.sendExpression(f'setElementModifierValue(LiteratureComparison.Yossifon.Diode, polyanion_thick.area, $Code(={h*(b + 3*wedge_length_polyanion*root2/4)}))')\n",
    "    omc.sendExpression(f'setElementModifierValue(LiteratureComparison.Yossifon.Diode, polycation_thin.area, $Code(={h*(b + wedge_length_polycation*root2/4}))')\n",
    "    omc.sendExpression(f'setElementModifierValue(LiteratureComparison.Yossifon.Diode, polycation_thick.area, $Code(={h*(b + 3*wedge_length_polycation*root2/4)}))')\n",
    "\n",
    "    # Set the material properties\n",
    "    omc.sendExpression(f'OpenModelica.Scripting.setExtendsModifierValue(LiteratureComparison.Yossifon.pAMPSA, Ionics.Materials.Aqeous, q_fixed, $Code(={charge_polyanion}))')\n",
    "    omc.sendExpression(f'OpenModelica.Scripting.setExtendsModifierValue(LiteratureComparison.Yossifon.pDADMA, Ionics.Materials.Aqeous, q_fixed, $Code(={charge_polycation}))')\n",
    "    omc.sendExpression(f'OpenModelica.Scripting.setExtendsModifierValue(LiteratureComparison.Yossifon.pAMPSA, Ionics.Materials.Aqeous, D_multiplier, $Code(={D_multiplier_polyanion}))')\n",
    "    omc.sendExpression(f'OpenModelica.Scripting.setExtendsModifierValue(LiteratureComparison.Yossifon.pDADMA, Ionics.Materials.Aqeous, D_multiplier, $Code(={D_multiplier_polycation}))')\n",
    "    \n",
    "    class_name = 'LiteratureComparison.Yossifon.Experiments.Diode_steps'\n",
    "    flags_compile = '--matchingAlgorithm=PFPlusExt --indexReductionMethod=dynamicStateSelection -d=initialization,evaluateAllParameters,NLSanalyticJacobian --generateSymbolicJacobian '\n",
    "    flags_sim = '-noEquidistantTimeGrid -nls=kinsol -w -lv=LOG_STDOUT,LOG_ASSERT,LOG_EVENTS,LOG_STATS -jacobian=coloredSymbolical'\n",
    "    \n",
    "    result_dict = omc.sendExpression(f'simulate({class_name}, options=\"{flags_compile}\", simflags=\"{flags_sim}\")')\n",
    "    \n",
    "    results = parse_omc_mat(f'Simulation_Temp/{class_name}_res.mat')\n",
    "\n",
    "    timeseries = results[0]\n",
    "    parameters = pd.DataFrame.from_dict(results[1], orient='index', columns=['value'])\n",
    "\n",
    "    time_yossifon = data_yossifon['time'].to_numpy()\n",
    "    curent_yossifon = data_yossifon['current']\n",
    "\n",
    "    # Remove nan from time and current\n",
    "    time_offset = 800\n",
    "    current_interpolated = np.interp(time_yossifon, timeseries.index.to_numpy() - time_offset, timeseries['diode.i'].to_numpy())\n",
    "\n",
    "    residual = (current_interpolated - curent_yossifon)/np.max(current_interpolated)\n",
    "\n",
    "    residual_masked = np.zeros_like(residual)\n",
    "\n",
    "    # Fit just the forward bias regions\n",
    "\n",
    "    # index_time_ignore_end = np.searchsorted(time_yossifon, 405)\n",
    "    # residual[:index_time_ignore_end] = 0\n",
    "\n",
    "    # index_time_ignore_begin = np.searchsorted(time_yossifon, 595)\n",
    "    # index_time_ignore_end = np.searchsorted(time_yossifon, 1205)\n",
    "    # residual[index_time_ignore_begin:index_time_ignore_end] = 0\n",
    "\n",
    "    # index_time_ignore_begin = np.searchsorted(time_yossifon, 1395)\n",
    "    # residual[index_time_ignore_begin:] = 0\n",
    "\n",
    "    \n",
    "    index_time_use_begin = np.searchsorted(time_yossifon, 405)\n",
    "    index_time_use_end = np.searchsorted(time_yossifon, 595)\n",
    "    residual_masked[index_time_use_begin:index_time_use_end] = residual[index_time_use_begin:index_time_use_end]*3\n",
    "\n",
    "    index_time_use_begin = np.searchsorted(time_yossifon, 1205)\n",
    "    index_time_use_end = np.searchsorted(time_yossifon, 1395)\n",
    "    residual_masked[index_time_use_begin:index_time_use_end] = residual[index_time_use_begin:index_time_use_end]*3\n",
    "\n",
    "\n",
    "    index_time_use_begin = np.searchsorted(time_yossifon, 610)\n",
    "    index_time_use_end = np.searchsorted(time_yossifon, 620)\n",
    "    residual_masked[index_time_use_begin:index_time_use_end] = residual[index_time_use_begin:index_time_use_end]\n",
    "\n",
    "    index_time_use_begin = np.searchsorted(time_yossifon, 700)\n",
    "    index_time_use_end = np.searchsorted(time_yossifon, 795)\n",
    "    residual_masked[index_time_use_begin:index_time_use_end] = residual[index_time_use_begin:index_time_use_end]\n",
    "\n",
    "    \n",
    "    index_time_use_begin = np.searchsorted(time_yossifon, 1410)\n",
    "    index_time_use_end = np.searchsorted(time_yossifon, 1420)\n",
    "    residual_masked[index_time_use_begin:index_time_use_end] = residual[index_time_use_begin:index_time_use_end]\n",
    "\n",
    "\n",
    "    index_time_use_begin = np.searchsorted(time_yossifon, 1500)\n",
    "    index_time_use_end = np.searchsorted(time_yossifon, 1595)\n",
    "    residual_masked[index_time_use_begin:index_time_use_end] = residual[index_time_use_begin:index_time_use_end]\n",
    "\n",
    "    \n",
    "    # #Ignore between where the forward bias starts so we don't include the spike\n",
    "    # transition_times = [200, 400,600,1200,1400]\n",
    "\n",
    "    # for transition_time in transition_times:\n",
    "    #     index_time_ignore_begin = np.searchsorted(time_yossifon,  transition_time-5)\n",
    "    #     index_time_ignore_end = np.searchsorted(time_yossifon, transition_time+5)\n",
    "    \n",
    "    #     residual[index_time_ignore_begin:index_time_ignore_end] = 0\n",
    "\n",
    "    \n",
    "    plt.plot(time_yossifon, current_interpolated)\n",
    "    plt.plot(time_yossifon, curent_yossifon)\n",
    "    plt.plot(time_yossifon, residual_masked*np.max(current_interpolated))\n",
    "    plt.show()\n",
    "    return residual_masked\n",
    "    \n"
   ]
  },
  {
   "cell_type": "raw",
   "id": "b2d7279b-aa02-4972-a9bc-6ba3e2e5845d",
   "metadata": {},
   "source": [
    "#x_initial = [5e-3, 600e-6, 800e-6, -5e3, 4.2e3, 0.1, 0.1]\n",
    "\n",
    "#x_initial = [4.28446833e-03,  2.08901748e-04,  8.64807688e-04, -5.77009258e+03, 1.44471873e+03,  3.58098801e-01,  1.66957016e-01] # best fit just forward\n",
    "\n",
    "#x_initial = [4.329e-03, 3.050e-04, 1.000e-03, -2.895e+03, 5.001e+02, 4.936e-01, 2.733e-01] # best fit both\n",
    "\n",
    "\n",
    "x_initial = [ 4.17532748e-03, 2.34153561e-04,  9.91311761e-04, -5.89373980e+02, 9.18530465e+02, 1.39205578e-01, 1.73224261e-01]\n",
    "\n",
    "#[ 4.16115307e-03  2.25159162e-04  9.97593083e-04 -6.77862522e+02  1.03929899e+03  1.35378964e-01  1.96823451e-01]\n"
   ]
  },
  {
   "cell_type": "raw",
   "id": "22113bd1-21ac-4344-a2e3-8249b616954c",
   "metadata": {
    "scrolled": true
   },
   "source": [
    "residual = optimize_fun(x_initial)"
   ]
  },
  {
   "cell_type": "raw",
   "id": "6ba3333d-4ae7-4842-be4d-72359f53cd7d",
   "metadata": {
    "scrolled": true
   },
   "source": [
    "optimized_solution_a = scipy.optimize.least_squares(optimize_fun,\n",
    "                                                    x_initial,\n",
    "                                                    max_nfev=100,\n",
    "                                                    x_scale=np.abs(x_initial),\n",
    "                                                    bounds=([1e-3, 100e-6, 100e-6, -6e3, 0.5e3, 0.001, 0.001],\n",
    "                                                          [6e-3, 1000e-6, 1000e-6, -0.5e3, 6e3, 0.5, 0.5]),\n",
    "                                                    diff_step=0.01,\n",
    "                                                    loss='soft_l1')"
   ]
  },
  {
   "cell_type": "markdown",
   "id": "a6f428b0-0cbc-44a4-931e-54041ac96078",
   "metadata": {},
   "source": [
    "#### Literature Trial"
   ]
  },
  {
   "cell_type": "code",
   "execution_count": null,
   "id": "9e3c8c16-7504-4bf7-8615-e553fa9fd90a",
   "metadata": {},
   "outputs": [],
   "source": [
    "reload_omc()"
   ]
  },
  {
   "cell_type": "code",
   "execution_count": null,
   "id": "637223d5-1ba8-4272-820e-9f62f4f09a86",
   "metadata": {},
   "outputs": [],
   "source": [
    "# Get default values for parameters\n",
    "reverse_duration = float(omc.sendExpression('getParameterValue(LiteratureComparison.Berggren.Experiments.Diode_steps, \"reverse_duration\")'))\n",
    "forward_duration = float(omc.sendExpression('getParameterValue(LiteratureComparison.Berggren.Experiments.Diode_steps, \"forward_duration\")'))\n",
    "equilibration_duration = float(omc.sendExpression('getParameterValue(LiteratureComparison.Berggren.Experiments.Diode_steps, \"equilibration_duration\")'))\n",
    "transition_duration = float(omc.sendExpression('getParameterValue(LiteratureComparison.Berggren.Experiments.Diode_steps, \"transition_duration\")'))"
   ]
  },
  {
   "cell_type": "code",
   "execution_count": null,
   "id": "052c80be-b2c5-4398-946b-25443ad3232e",
   "metadata": {},
   "outputs": [],
   "source": [
    "#results = {}\n",
    "\n",
    "filepath = './Simulation Datafiles/Yossifon_Single_Diode.h5'\n",
    "\n",
    "with pd.HDFStore(filepath) as store:\n",
    "    \n",
    "    class_name = 'LiteratureComparison.Yossifon.Experiments.Diode_steps'\n",
    "    flags_compile = '--matchingAlgorithm=PFPlusExt --indexReductionMethod=dynamicStateSelection -d=initialization,evaluateAllParameters,NLSanalyticJacobian --generateSymbolicJacobian '\n",
    "    flags_sim = '-noEquidistantTimeGrid -nls=kinsol -w -lv=LOG_STDOUT,LOG_ASSERT,LOG_EVENTS,LOG_STATS -jacobian=coloredSymbolical'\n",
    "    \n",
    "    result_dict = omc.sendExpression(f'simulate({class_name}, options=\"{flags_compile}\", simflags=\"{flags_sim}\")')\n",
    "    \n",
    "    save_results_properties(result_dict,\n",
    "                            class_name,\n",
    "                            ''\n",
    "                           )\n",
    "\n",
    "    results = parse_omc_mat(f'Simulation_Temp/{class_name}_res.mat')\n",
    "\n",
    "    store[f'Simulation/timeseries'] = results[0]\n",
    "    store[f'Simulation/parameters'] = pd.DataFrame.from_dict(results[1], orient='index', columns=['value'])\n",
    "\n",
    "    "
   ]
  },
  {
   "cell_type": "markdown",
   "id": "97e17d08-49cd-4c68-a526-41810acf6be7",
   "metadata": {},
   "source": [
    "### AND Gate"
   ]
  },
  {
   "cell_type": "code",
   "execution_count": null,
   "id": "236e5c32-17d0-4c59-ac03-d116ac76c058",
   "metadata": {},
   "outputs": [],
   "source": [
    "reload_omc()"
   ]
  },
  {
   "cell_type": "markdown",
   "id": "2765ef17-9567-4469-ba85-fb5d273ddfef",
   "metadata": {},
   "source": [
    "#### Without Leakage"
   ]
  },
  {
   "cell_type": "code",
   "execution_count": null,
   "id": "91e75a3c-2bbc-47da-a70a-3ab5df9d66b2",
   "metadata": {},
   "outputs": [],
   "source": [
    "#results = {}\n",
    "\n",
    "filepath = './Simulation Datafiles/Yossifon_AND_Gate.h5'\n",
    "class_name = 'LiteratureComparison.Yossifon.Experiments.Gate_AND_NoLeak_Steps'\n",
    "flags_compile = '--matchingAlgorithm=PFPlusExt --indexReductionMethod=dynamicStateSelection -d=initialization,evaluateAllParameters,NLSanalyticJacobian --generateSymbolicJacobian '\n",
    "flags_sim = '-noEquidistantTimeGrid -nls=kinsol -w -lv=LOG_STDOUT,LOG_ASSERT,LOG_EVENTS,LOG_STATS -jacobian=coloredSymbolical'\n",
    "    \n",
    "result_dict = omc.sendExpression(f'simulate({class_name}, options=\"{flags_compile}\", simflags=\"{flags_sim}\")')\n",
    "save_results_properties(result_dict,\n",
    "                        class_name,\n",
    "                        ''\n",
    "                       )\n",
    "\n",
    "results = parse_omc_mat(f'Simulation_Temp/{class_name}_res.mat')\n",
    "\n",
    "with pd.HDFStore(filepath) as store:    \n",
    "    store[f'Simulation_No_Leak/timeseries'] = results[0]\n",
    "    store[f'Simulation_No_Leak/parameters'] = pd.DataFrame.from_dict(results[1], orient='index', columns=['value'])\n",
    "    "
   ]
  },
  {
   "cell_type": "markdown",
   "id": "512e6697-c49c-4e29-99b8-8a716aba49f2",
   "metadata": {},
   "source": [
    "#### With Leakage"
   ]
  },
  {
   "cell_type": "markdown",
   "id": "a39f9555-7bd6-4c0b-9188-c305ed72cb1b",
   "metadata": {},
   "source": [
    "##### Optimization"
   ]
  },
  {
   "cell_type": "raw",
   "id": "da2a2539-6755-4b27-8365-47dfc25cc4b5",
   "metadata": {},
   "source": [
    "# Read in literature values:\n",
    "data_yossifon_and_gate_voltage= pd.read_csv('./Literature Data/Yossifon AND Gate/Current.csv', names=['time', 'voltage'])"
   ]
  },
  {
   "cell_type": "raw",
   "id": "eaef27ad-0619-4fa1-bd39-283e9fb3cbca",
   "metadata": {},
   "source": [
    "def optimize_fun(x):\n",
    "    print(x)\n",
    "    \n",
    "    leak_a = x[0]\n",
    "    leak_b = x[1]\n",
    "    leak_c = x[2]\n",
    "    # if len(x) > 4:\n",
    "    #     q_fixed_polyanion = x[4] \n",
    "    #     q_fixed_polycation = x[5]\n",
    "    #     omc.sendExpression(f'OpenModelica.Scripting.setExtendsModifierValue(LiteratureComparison.Berggren.Materials.PEDOT_PSS, Ionics.Materials.Aqeous, q_fixed, $Code(=Modelica.Constants.F*({q_fixed_polyanion})))')\n",
    "    #     omc.sendExpression(f'OpenModelica.Scripting.setExtendsModifierValue(LiteratureComparison.Berggren.Materials.pVBPPh3, Ionics.Materials.Aqeous, q_fixed, $Code(=Modelica.Constants.F*({q_fixed_polycation})))')\n",
    "    \n",
    "    \n",
    "    omc.sendExpression(f'setElementModifierValue(LiteratureComparison.Yossifon.Gate_AND_Leak, leak_a.length, $Code(={leak_a}))')\n",
    "    omc.sendExpression(f'setElementModifierValue(LiteratureComparison.Yossifon.Gate_AND_Leak, leak_b.length, $Code(={leak_b}))')\n",
    "    omc.sendExpression(f'setElementModifierValue(LiteratureComparison.Yossifon.Gate_AND_Leak, leak_c.length, $Code(={leak_c}))')\n",
    "\n",
    "  \n",
    "    class_name = 'LiteratureComparison.Yossifon.Experiments.Gate_AND_Leak_Steps'\n",
    "    flags_compile = '--matchingAlgorithm=PFPlusExt --indexReductionMethod=dynamicStateSelection -d=initialization,evaluateAllParameters,NLSanalyticJacobian --generateSymbolicJacobian '\n",
    "    flags_sim = '-noEquidistantTimeGrid -nls=kinsol -w -lv=LOG_STDOUT,LOG_ASSERT,LOG_EVENTS,LOG_STATS -jacobian=coloredSymbolical'\n",
    "     \n",
    "    result_dict = omc.sendExpression(f'simulate({class_name}, options=\"{flags_compile}\", simflags=\"{flags_sim}\")')\n",
    "    \n",
    "    results = parse_omc_mat(f'Simulation_Temp/{class_name}_res.mat')\n",
    "\n",
    "    timeseries = results[0]\n",
    "    parameters = pd.DataFrame.from_dict(results[1], orient='index', columns=['value'])\n",
    "\n",
    "    time_yossifon = data_yossifon_and_gate_voltage['time'].to_numpy()\n",
    "    voltage_yossifon = data_yossifon_and_gate_voltage['voltage']\n",
    "\n",
    "    time_offset = 800\n",
    "    voltage_interpolated = np.interp(time_yossifon, timeseries.index.to_numpy() - time_offset, timeseries['gate.volume_center.port.V'].to_numpy())\n",
    "\n",
    "    residual = (voltage_interpolated - voltage_yossifon)/np.max(voltage_interpolated)\n",
    "\n",
    "    residual_masked = np.zeros_like(residual)\n",
    "\n",
    "    \n",
    "    index_time_use_begin = np.searchsorted(time_yossifon, 20)\n",
    "    index_time_use_end = np.searchsorted(time_yossifon, 180)\n",
    "    residual_masked[index_time_use_begin:index_time_use_end] = residual[index_time_use_begin:index_time_use_end]\n",
    "\n",
    "    index_time_use_begin = np.searchsorted(time_yossifon, 210)\n",
    "    index_time_use_end = np.searchsorted(time_yossifon, 380)\n",
    "    residual_masked[index_time_use_begin:index_time_use_end] = residual[index_time_use_begin:index_time_use_end]\n",
    "    \n",
    "    # index_time_use_begin = np.searchsorted(time_yossifon, 410)\n",
    "    # index_time_use_end = np.searchsorted(time_yossifon, 580)\n",
    "    # residual_masked[index_time_use_begin:index_time_use_end] = residual[index_time_use_begin:index_time_use_end]\n",
    "\n",
    "    index_time_use_begin = np.searchsorted(time_yossifon, 630)\n",
    "    index_time_use_end = np.searchsorted(time_yossifon, 780)\n",
    "    residual_masked[index_time_use_begin:index_time_use_end] = residual[index_time_use_begin:index_time_use_end]\n",
    "    \n",
    "    \n",
    "    plt.plot(time_yossifon, voltage_interpolated)\n",
    "    plt.plot(time_yossifon, voltage_yossifon)\n",
    "    plt.plot(time_yossifon, residual_masked*np.max(voltage_interpolated))\n",
    "    plt.show()\n",
    "    return residual_masked\n",
    "    \n"
   ]
  },
  {
   "cell_type": "raw",
   "id": "bd804fcf-caa3-429e-b4d2-e06bc9f74501",
   "metadata": {},
   "source": [
    "x_initial = [20e-6, 20e-6, 2e-6]\n",
    "\n",
    "x_initial = [1.10287533e-06, 1.44254719e-06, 9.99999999e-05]\n"
   ]
  },
  {
   "cell_type": "raw",
   "id": "5f010fb8-ee2e-4400-9a6a-d9fa685279ac",
   "metadata": {
    "scrolled": true
   },
   "source": [
    "residual = optimize_fun(x_initial)"
   ]
  },
  {
   "cell_type": "raw",
   "id": "4c513eff-9cf3-4642-a9ab-5a86d6cfaeca",
   "metadata": {
    "scrolled": true
   },
   "source": [
    "optimized_solution_a = scipy.optimize.least_squares(optimize_fun,\n",
    "                                                    x_initial,\n",
    "                                                    max_nfev=100,\n",
    "                                                    x_scale=[5e-6, 5e-6, 5e-6],\n",
    "                                                    bounds=([1e-7, 1e-7, 1e-7,],\n",
    "                                                          [1e-3, 1e-3, 1e-3,]),\n",
    "                                                    diff_step=0.01,\n",
    "                                                    loss='soft_l1')"
   ]
  },
  {
   "cell_type": "markdown",
   "id": "10546190-cdf7-43dd-b140-86d5bd876eff",
   "metadata": {},
   "source": [
    "##### Literature Trial\n"
   ]
  },
  {
   "cell_type": "code",
   "execution_count": null,
   "id": "b0e78ec3-257a-4420-add5-ab86c32aefee",
   "metadata": {},
   "outputs": [],
   "source": [
    "reload_omc()"
   ]
  },
  {
   "cell_type": "code",
   "execution_count": null,
   "id": "77c10ce9-4aa1-45d1-bc6d-7ccda2ceba57",
   "metadata": {},
   "outputs": [],
   "source": [
    "filepath = './Simulation Datafiles/Yossifon_AND_Gate.h5'\n",
    "class_name = 'LiteratureComparison.Yossifon.Experiments.Gate_AND_Leak_Steps'\n",
    "flags_compile = '--matchingAlgorithm=PFPlusExt --indexReductionMethod=dynamicStateSelection -d=initialization,evaluateAllParameters,NLSanalyticJacobian --generateSymbolicJacobian '\n",
    "flags_sim = '-noEquidistantTimeGrid -nls=kinsol -w -lv=LOG_STDOUT,LOG_ASSERT,LOG_EVENTS,LOG_STATS -jacobian=coloredSymbolical'\n",
    "    \n",
    "result_dict = omc.sendExpression(f'simulate({class_name}, options=\"{flags_compile}\", simflags=\"{flags_sim}\")')\n",
    "save_results_properties(result_dict,\n",
    "                        class_name,\n",
    "                        ''\n",
    "                       )\n",
    "\n",
    "results = parse_omc_mat(f'Simulation_Temp/{class_name}_res.mat')\n",
    "with pd.HDFStore(filepath) as store:\n",
    "    store[f'Simulation_Leak/timeseries'] = results[0]\n",
    "    store[f'Simulation_Leak/parameters'] = pd.DataFrame.from_dict(results[1], orient='index', columns=['value'])\n"
   ]
  },
  {
   "cell_type": "markdown",
   "id": "1a0c845d-68a4-4637-bba7-3913593f4acd",
   "metadata": {},
   "source": [
    "## Soft Robot Circuit"
   ]
  },
  {
   "cell_type": "code",
   "execution_count": null,
   "id": "d8378d24-6a02-40ad-920a-a2fa6b5caef9",
   "metadata": {},
   "outputs": [],
   "source": [
    "reload_omc()"
   ]
  },
  {
   "cell_type": "markdown",
   "id": "0e9703d4-079b-435f-9dd6-174369a839d7",
   "metadata": {},
   "source": [
    "#### Concentration Sweep"
   ]
  },
  {
   "cell_type": "code",
   "execution_count": null,
   "id": "2c7985b2-1d9e-4afa-b06e-932cf50a204d",
   "metadata": {},
   "outputs": [],
   "source": [
    "concentrations = np.logspace(0, 3.5, 20)\n",
    "\n",
    "filepath_output = './Simulation Datafiles/Robot_Brain.h5'\n",
    "flags_compile = '--matchingAlgorithm=PFPlusExt --indexReductionMethod=dynamicStateSelection -d=initialization,evaluateAllParameters,NLSanalyticJacobian --generateSymbolicJacobian '\n",
    "flags_sim = '-port=12345 -override=startTime=0,stopTime=70000,stepSize=10,tolerance=1e-08,solver=dassl,outputFormat=mat -jacobian=coloredSymbolical'\n",
    "\n",
    "for c in concentrations:\n",
    "    omc.sendExpression(f\"setParameterValue(NovelCircuitry.Robot_Brain, bath_concentration_world, {{{c}, {c}}})\")\n",
    "    filename_prefix = f\"NovelCircuitry.Robot_Brain_{c}\"\n",
    "    result_message = omc.sendExpression(f'simulate(NovelCircuitry.Robot_Brain, fileNamePrefix=\"{filename_prefix}\", options=\"{flags_compile}\", simflags=\"{flags_sim}\")')\n",
    "    result = parse_omc_mat(f'Simulation_Temp/{filename_prefix}_res.mat')\n",
    "\n",
    "    with pd.HDFStore(filepath_output) as store:\n",
    "        store[f'{c}/timeseries'] = result[0]\n",
    "        store[f'{c}/parameters'] = pd.DataFrame.from_dict(result[1], orient='index', columns=['value'])\n"
   ]
  },
  {
   "cell_type": "markdown",
   "id": "28df6353-b107-4dd7-b81c-7f1e78f65080",
   "metadata": {},
   "source": [
    "#### Dynamic Concentration"
   ]
  },
  {
   "cell_type": "code",
   "execution_count": null,
   "id": "ea0e5f02-6cfa-4b8e-8d40-1e0e983383f5",
   "metadata": {},
   "outputs": [],
   "source": [
    "filepath_output = './Simulation Datafiles/Robot_Brain_Dynamic.h5'\n",
    "class_name = 'NovelCircuitry.Robot_Brain_Changing_Concentration'\n",
    "flags_compile = '--matchingAlgorithm=PFPlusExt --indexReductionMethod=dynamicStateSelection -d=initialization,evaluateAllParameters,NLSanalyticJacobian --generateSymbolicJacobian '\n",
    "flags_sim = '-port=12345 -override=startTime=0,stopTime=32000,stepSize=1,tolerance=1e-08,solver=dassl,outputFormat=mat -jacobian=coloredSymbolical'\n",
    "\n",
    "result_dict = omc.sendExpression(f'simulate({class_name}, options=\"{flags_compile}\", simflags=\"{flags_sim}\")')\n",
    "save_results_properties(result_dict,\n",
    "                        class_name,\n",
    "                        ''\n",
    "                       )\n",
    "\n",
    "result = parse_omc_mat(f'Simulation_Temp/{class_name}_res.mat')\n",
    "\n",
    "with pd.HDFStore(filepath_output) as store:\n",
    "    store[f'timeseries'] = result[0]\n",
    "    store[f'parameters'] = pd.DataFrame.from_dict(result[1], orient='index', columns=['value'])\n"
   ]
  },
  {
   "cell_type": "markdown",
   "id": "72930050-3a35-4e8d-9058-cdcfc59966e1",
   "metadata": {},
   "source": [
    "### Transistor"
   ]
  },
  {
   "cell_type": "code",
   "execution_count": null,
   "id": "94dbcb62-cfd5-42f2-919f-358051590dc9",
   "metadata": {},
   "outputs": [],
   "source": [
    "class_name = 'NovelCircuitry.Oscillator_Single_Transistor_Output_Curve_Trace'\n",
    "filepath_output = './Simulation Datafiles/Robot_Brain_Transistor_Oscillator_Output_Characteristics.h5'\n",
    "\n",
    "result_dict = omc.sendExpression(f'simulate({class_name}, simflags=\"-port=12345 -override=startTime=0,stopTime=6000,stepSize=1,tolerance=1e-08,solver=dassl,outputFormat=mat -jacobian=coloredSymbolical\")')\n",
    "\n",
    "save_results_properties(result_dict,\n",
    "                        class_name,\n",
    "                        ''\n",
    "                       )\n",
    "\n",
    "result = parse_omc_mat(f'Simulation_Temp/{class_name}_res.mat')\n",
    "\n",
    "with pd.HDFStore(filepath_output) as store:\n",
    "    store[f'timeseries'] = result[0]\n",
    "    store[f'parameters'] = pd.DataFrame.from_dict(result[1], orient='index', columns=['value'])\n"
   ]
  },
  {
   "cell_type": "code",
   "execution_count": null,
   "id": "db219a21-5b24-45e5-bebf-3a6586dc339a",
   "metadata": {},
   "outputs": [],
   "source": [
    "class_name = 'NovelCircuitry.Oscillator_Single_Transistor_Response'\n",
    "filepath_output = './Simulation Datafiles/Robot_Brain_Transistor_Oscillator_Current_Amplification.h5'\n",
    "\n",
    "result_dict = omc.sendExpression(f'simulate({class_name}, simflags=\"-port=12345 -override=startTime=0,stopTime=6000,stepSize=1,tolerance=1e-08,solver=dassl,outputFormat=mat -jacobian=coloredSymbolical\")')\n",
    "save_results_properties(result_dict,\n",
    "                        class_name,\n",
    "                        ''\n",
    "                       )\n",
    "result = parse_omc_mat(f'Simulation_Temp/{class_name}_res.mat')\n",
    "\n",
    "with pd.HDFStore(filepath_output) as store:\n",
    "    store[f'timeseries'] = result[0]\n",
    "    store[f'parameters'] = pd.DataFrame.from_dict(result[1], orient='index', columns=['value'])\n"
   ]
  },
  {
   "cell_type": "code",
   "execution_count": null,
   "id": "a03fc9de-3757-428c-b7f4-3b5c0becbc80",
   "metadata": {},
   "outputs": [],
   "source": [
    "class_name = 'NovelCircuitry.Actuator_Single_Transistor_Output_Curve_Trace'\n",
    "filepath_output = './Simulation Datafiles/Robot_Brain_Transistor_Actuator_Output_Characteristics.h5'\n",
    "\n",
    "result_dict = omc.sendExpression(f'simulate({class_name}, simflags=\"-port=12345 -override=startTime=0,stopTime=36000,stepSize=1,tolerance=1e-08,solver=dassl,outputFormat=mat -jacobian=coloredNumerical\")')\n",
    "save_results_properties(result_dict,\n",
    "                        class_name,\n",
    "                        ''\n",
    "                       )\n",
    "result = parse_omc_mat(f'Simulation_Temp/{class_name}_res.mat')\n",
    "\n",
    "with pd.HDFStore(filepath_output) as store:\n",
    "    store[f'timeseries'] = result[0]\n",
    "    store[f'parameters'] = pd.DataFrame.from_dict(result[1], orient='index', columns=['value'])\n"
   ]
  },
  {
   "cell_type": "code",
   "execution_count": null,
   "id": "6c969649-5c6f-4e5a-9f45-f6f3bf5c987d",
   "metadata": {},
   "outputs": [],
   "source": [
    "class_name = 'NovelCircuitry.Actuator_Single_Transistor_Response'\n",
    "filepath_output = './Simulation Datafiles/Robot_Brain_Transistor_Actuator_Current_Amplification.h5'\n",
    "\n",
    "result_message = omc.sendExpression(f'simulate({class_name}, simflags=\"-port=12345 -override=startTime=0,stopTime=12000,stepSize=1,tolerance=1e-08,solver=dassl,outputFormat=mat -jacobian=coloredNumerical\")')\n",
    "save_results_properties(result_dict,\n",
    "                        class_name,\n",
    "                        ''\n",
    "                       )\n",
    "result = parse_omc_mat(f'Simulation_Temp/{class_name}_res.mat')\n",
    "\n",
    "with pd.HDFStore(filepath_output) as store:\n",
    "    store[f'timeseries'] = result[0]\n",
    "    store[f'parameters'] = pd.DataFrame.from_dict(result[1], orient='index', columns=['value'])\n"
   ]
  },
  {
   "cell_type": "markdown",
   "id": "c39ffa1c-6859-4dc2-b877-8c5fe456c9af",
   "metadata": {},
   "source": [
    "## Demonstration Circuits"
   ]
  },
  {
   "cell_type": "markdown",
   "id": "1fb338cf-5c34-4ebe-9472-3cfdec9fea60",
   "metadata": {},
   "source": [
    "### Wire Enrichment"
   ]
  },
  {
   "cell_type": "code",
   "execution_count": null,
   "id": "15b4c3c2-9556-4e89-a95e-68f0d0d2b968",
   "metadata": {},
   "outputs": [],
   "source": [
    "reload_omc()"
   ]
  },
  {
   "cell_type": "code",
   "execution_count": null,
   "id": "c7498526-469c-4e35-91b3-6f22ba9de613",
   "metadata": {},
   "outputs": [],
   "source": [
    "#results = {}\n",
    "\n",
    "filepath = './Simulation Datafiles/Wire_Enrichment.h5'\n",
    "\n",
    "with pd.HDFStore(filepath) as store:\n",
    "    \n",
    "    class_name = 'NovelCircuitry.WireEnrichment'\n",
    "    flags_compile = '--matchingAlgorithm=PFPlusExt --indexReductionMethod=dynamicStateSelection -d=initialization,evaluateAllParameters,NLSanalyticJacobian --generateSymbolicJacobian '\n",
    "    flags_sim = '-noEquidistantTimeGrid -nls=kinsol -w -lv=LOG_STDOUT,LOG_ASSERT,LOG_EVENTS,LOG_STATS -jacobian=coloredSymbolical'\n",
    "    \n",
    "    result_dict = omc.sendExpression(f'simulate({class_name}, options=\"{flags_compile}\", simflags=\"{flags_sim}\")')\n",
    "    \n",
    "    save_results_properties(result_dict,\n",
    "                            class_name,\n",
    "                            ''\n",
    "                           )\n",
    "\n",
    "    results = parse_omc_mat(f'Simulation_Temp/{class_name}_res.mat')\n",
    "\n",
    "    store[f'timeseries'] = results[0]\n",
    "    store[f'parameters'] = pd.DataFrame.from_dict(results[1], orient='index', columns=['value'])\n",
    "\n",
    "\n",
    "filepath = './Simulation Datafiles/Wire_Enrichment_Uncharged.h5'\n",
    "\n",
    "with pd.HDFStore(filepath) as store:\n",
    "    \n",
    "    class_name = 'NovelCircuitry.WireEnrichmentBaseCase'\n",
    "    flags_compile = '--matchingAlgorithm=PFPlusExt --indexReductionMethod=dynamicStateSelection -d=initialization,evaluateAllParameters,NLSanalyticJacobian --generateSymbolicJacobian '\n",
    "    flags_sim = '-noEquidistantTimeGrid -nls=kinsol -w -lv=LOG_STDOUT,LOG_ASSERT,LOG_EVENTS,LOG_STATS -jacobian=coloredSymbolical'\n",
    "    \n",
    "    result_dict = omc.sendExpression(f'simulate({class_name}, options=\"{flags_compile}\", simflags=\"{flags_sim}\")')\n",
    "    \n",
    "    save_results_properties(result_dict,\n",
    "                            class_name,\n",
    "                            ''\n",
    "                           )\n",
    "\n",
    "    results = parse_omc_mat(f'Simulation_Temp/{class_name}_res.mat')\n",
    "\n",
    "    store[f'timeseries'] = results[0]\n",
    "    store[f'parameters'] = pd.DataFrame.from_dict(results[1], orient='index', columns=['value'])\n",
    "    "
   ]
  },
  {
   "cell_type": "markdown",
   "id": "28703691-2d67-41ab-81ec-4b2fb8ceaab1",
   "metadata": {},
   "source": [
    "### Warburg element"
   ]
  },
  {
   "cell_type": "code",
   "execution_count": null,
   "id": "933e1707-6f85-4b79-8acf-1c6ab5906592",
   "metadata": {},
   "outputs": [],
   "source": [
    "reload_omc()"
   ]
  },
  {
   "cell_type": "code",
   "execution_count": null,
   "id": "286d6927-c864-4ab3-9ef5-2eb384020c44",
   "metadata": {},
   "outputs": [],
   "source": [
    "import scipy.interpolate\n",
    "\n",
    "def zero_crossings(x,y):\n",
    "    return scipy.interpolate.CubicSpline(x,y).roots(extrapolate=False)\n",
    "\n",
    "def get_impedance(i,v,t,hz):\n",
    "    zeros_i_t = zero_crossings(t, i)\n",
    "    zeros_v_t = zero_crossings(t, v)\n",
    "\n",
    "    # Skip the first period\n",
    "    zeros_i_t = zeros_i_t[zeros_i_t > 0.01/hz]\n",
    "    zeros_v_t = zeros_v_t[zeros_v_t > 0.01/hz]\n",
    "\n",
    "    min_length = min(len(zeros_i_t), len(zeros_v_t))\n",
    "\n",
    "    # Skip two more crossings\n",
    "    delta_t = zeros_i_t[2:min_length] - zeros_v_t[2:min_length]\n",
    "    \n",
    "    shift = (np.mean(delta_t)*hz)*(2*np.pi)\n",
    "\n",
    "    # Compute amplitude from the second half\n",
    "    amplitude = np.max(v[len(v)//2:])/np.max(i[len(i)//2:])\n",
    "\n",
    "    #set_trace()\n",
    "\n",
    "    return amplitude*np.exp(1j*shift)\n",
    "    # return (amplitude, shift)"
   ]
  },
  {
   "cell_type": "code",
   "execution_count": null,
   "id": "4b3cd44c-ec9d-4568-9d84-a4fde3328308",
   "metadata": {},
   "outputs": [],
   "source": [
    "#results = {}\n",
    "\n",
    "filepath = './Simulation Datafiles/Warburg element.h5'\n",
    "\n",
    "frequencies = np.logspace(-4,3,50)\n",
    "# frequencies = frequencies[0]\n",
    "\n",
    "with pd.HDFStore(filepath) as store:\n",
    "    \n",
    "    class_name = 'NovelCircuitry.warburg'\n",
    "    flags_compile = '--matchingAlgorithm=PFPlusExt --indexReductionMethod=dynamicStateSelection -d=initialization,evaluateAllParameters,NLSanalyticJacobian  --generateDynamicJacobian=symbolic'\n",
    "    flags_sim = '-nls=kinsol -w -lv=LOG_STDOUT,LOG_ASSERT,LOG_EVENTS,LOG_STATS -jacobian=coloredSymbolical'\n",
    "\n",
    "    for frequency in frequencies:\n",
    "\n",
    "        print(frequency)\n",
    "    \n",
    "        omc.sendExpression(f'setElementModifierValue(NovelCircuitry.warburg, sineVoltage.f, $Code(={frequency:0.6e}))')\n",
    "        result_dict = omc.sendExpression(f'simulate({class_name}, numberOfIntervals = 10000, stopTime={6/frequency:0.6e}, options=\"{flags_compile}\", simflags=\"{flags_sim}\")')\n",
    "        \n",
    "        save_results_properties(result_dict,\n",
    "                                class_name,\n",
    "                                ''\n",
    "                               )\n",
    "    \n",
    "        results = parse_omc_mat(f'Simulation_Temp/{class_name}_res.mat')\n",
    "\n",
    "        timeseries = results[0]\n",
    "        timeseries = timeseries[~timeseries.index.duplicated(keep='first')]\n",
    "\n",
    "\n",
    "        key = f'timeseries {frequency:0.4e}'\n",
    "        store[key] = timeseries\n",
    "        store.get_storer(key).attrs.frequency = frequency \n"
   ]
  },
  {
   "cell_type": "code",
   "execution_count": null,
   "id": "61e61c88-a8a2-4ff5-b99f-32b6fd71873f",
   "metadata": {},
   "outputs": [],
   "source": [
    "impedances = {}\n",
    "frequencies = np.logspace(-4,3,50)\n",
    "\n",
    "with pd.HDFStore(filepath) as store:\n",
    "    for frequency in frequencies:\n",
    "        print(frequency)\n",
    "        \n",
    "        key = f'timeseries {frequency:0.4e}'\n",
    "        timeseries = store[key]\n",
    "        \n",
    "        i = -timeseries['sineVoltage.i']\n",
    "        v = timeseries['sineVoltage.v']\n",
    "        \n",
    "        t = i.index\n",
    "        \n",
    "        impedances[frequency] = get_impedance(i.to_numpy(), v.to_numpy(), t.to_numpy(), frequency)\n",
    "\n",
    "        #print(t.max())\n",
    "        # print(len(t))\n",
    "        \n",
    "        #store[f'timeseries'] = results[0]\n",
    "        #store[f'parameters'] = pd.DataFrame.from_dict(results[1], orient='index', columns=['value'])\n",
    "\n",
    "impedances = np.array(list(impedances.values()))"
   ]
  },
  {
   "cell_type": "code",
   "execution_count": null,
   "id": "b3188399-9d47-4849-947f-453a5158913a",
   "metadata": {},
   "outputs": [],
   "source": [
    "# plt.figure()\n",
    "# plt.plot(np.log10(frequencies), np.log10(np.abs(impedances)))\n",
    "# plt.figure()\n",
    "# plt.plot(np.log10(frequencies), np.angle(impedances)*360/(2*np.pi))\n",
    "\n",
    "\n",
    "plot = plotting.plots.Bode(width = 400, height = 400)\n",
    "plot.add_trace(frequency=frequencies, magnitude=np.abs(impedances), angle=np.angle(impedances)*180/np.pi)\n",
    "bokeh.io.show(plot.layout)\n",
    "\n",
    "bokeh.io.export_svg(plot.layout,\n",
    "                    filename = './Figures/Warburg/bode.svg',\n",
    "                    webdriver=driver)\n",
    "\n",
    "\n",
    "plot = plotting.plots.Columns([{'x': 'real', 'y': ['imag']}], {'real': \"Z'\"}, {'imag': \"-Z''\"},\n",
    "                             height=400, width=400)\n",
    "plot.add_trace(real=np.real(impedances), imag=-np.imag(impedances))\n",
    "bokeh.io.show(plot.layout)\n",
    "\n",
    "bokeh.io.export_svg(plot.layout,\n",
    "                    filename = './Figures/Warburg/nyquist.svg',\n",
    "                    webdriver=driver)\n"
   ]
  },
  {
   "cell_type": "markdown",
   "id": "4c02e221-6a64-43ed-9fcd-a636e288c312",
   "metadata": {},
   "source": [
    "# Figures"
   ]
  },
  {
   "cell_type": "raw",
   "id": "0d6594dd-1276-494b-8de5-43f2fd569857",
   "metadata": {},
   "source": [
    "# NOTE!!! You might have to fill in the path to your selenium manager here if it can't be found.\n",
    "# Turn back into a code cell (and the export_svg below) if you get selenium working\n",
    "os.environ['SE_MANAGER_PATH']='/home/max/Tools/anaconda3/envs/lumped/bin/selenium-manager'\n",
    "import selenium.webdriver\n",
    "driver = selenium.webdriver.Firefox()"
   ]
  },
  {
   "cell_type": "code",
   "execution_count": null,
   "id": "d4d30306-590e-4ac4-8329-93db5e13e3df",
   "metadata": {},
   "outputs": [],
   "source": [
    "style_line_experiment = {'line_width': 2, \n",
    "                 'line_dash': [4,4],\n",
    "                 'line_cap': 'butt',\n",
    "                 'line_join': 'round',\n",
    "                 'line_alpha': 1}\n",
    "\n",
    "style_line_simulation = {'line_width': 2,\n",
    "                 'line_alpha': 0.6,}\n",
    "\n",
    "colors = bokeh.palettes.Category10_10"
   ]
  },
  {
   "cell_type": "markdown",
   "id": "23b4a8d0-3cd4-4b89-919e-d83e740f5c93",
   "metadata": {},
   "source": [
    "## Single Diode"
   ]
  },
  {
   "cell_type": "markdown",
   "id": "79272676-9122-4e39-8bae-6f4c29bdb401",
   "metadata": {},
   "source": [
    "### Berggren"
   ]
  },
  {
   "cell_type": "code",
   "execution_count": null,
   "id": "5e1fd218-aa7b-412c-9f81-049a6fd97def",
   "metadata": {},
   "outputs": [],
   "source": [
    "# Read in the simulation data from the saved file\n",
    "\n",
    "filepath = './Simulation Datafiles/Berggren_Single_Diode_Duration_Sweep.h5'\n",
    "\n",
    "data_timeseries = {}\n",
    "forward_durations = {}\n",
    "\n",
    "with pd.HDFStore(filepath) as store:\n",
    "    root = store.get_node('/')\n",
    "    \n",
    "    for node_key in store.keys():\n",
    "\n",
    "        node_key_parts = node_key.split('/')\n",
    "\n",
    "        if node_key_parts[2] == 'timeseries':\n",
    "            data_timeseries[node_key_parts[1]] = store[node_key]\n",
    "\n",
    "        print(f'Reading node {node_key}')\n",
    "\n",
    "        forward_durations[node_key_parts[1]] = store.get_node(f'/{node_key_parts[1]}/forward_duration').read()\n",
    "        #Computational_costs[node_key_parts[1]] = \n",
    "\n",
    "diode_currents = {key: data_timeseries[key]['diode.i'] for key in data_timeseries}\n",
    "times = {key: data_timeseries[key].reset_index()['time'] for key in data_timeseries}"
   ]
  },
  {
   "cell_type": "code",
   "execution_count": null,
   "id": "b7ed5fb2-7309-431e-a841-5329891caf64",
   "metadata": {},
   "outputs": [],
   "source": [
    "# Read in literature values:\n",
    "data_berggren = pd.read_excel('./Literature Data/Berggren Single Diode/fig3.xlsx',\n",
    "                              header=[0,1],\n",
    "                              index_col = 0,\n",
    "                              decimal=',')"
   ]
  },
  {
   "cell_type": "code",
   "execution_count": null,
   "id": "39d18cd4-efb7-4ceb-b030-430017de0439",
   "metadata": {},
   "outputs": [],
   "source": [
    "class DiodeComparison(plotting.plots.Columns):\n",
    "    def _plot_trace(self, column_data_source, key_data, key_figure, style, color_trace):\n",
    "        \n",
    "        if 'type' in style:\n",
    "            type = style.pop('type')\n",
    "        else: \n",
    "            type = None\n",
    "        \n",
    "        if type == 'experiment':\n",
    "            style_applied = {'color': color_trace, \n",
    "                             'legend_label': 'Experiment'} | style_line_experiment | style\n",
    "            \n",
    "            glyph = self.figures[key_figure].line(\n",
    "                source=column_data_source,\n",
    "                x=key_data[0],\n",
    "                y=key_data[1],\n",
    "                **style_applied,\n",
    "            )\n",
    "        else:\n",
    "            style_applied = {'color': color_trace, 'legend_label': 'Simulation'} | style_line_simulation | style\n",
    "            \n",
    "            glyph = self.figures[key_figure].line(\n",
    "                source=column_data_source,\n",
    "                x=key_data[0],\n",
    "                y=key_data[1],\n",
    "                line_join = 'round',\n",
    "                **style_applied,\n",
    "            )\n",
    "        \n",
    "        return [glyph]\n",
    "\n",
    "plot = DiodeComparison(arrangement=[{'x':'time',\n",
    "                                            'y':['diode_current']}],\n",
    "                              x_labels={'time': \" \"},\n",
    "                              y_labels = {'diode_current': \" \"},\n",
    "                              height = 276,\n",
    "                              width = 340)\n",
    "reverse_duration = 120\n",
    "equilibration_duration = 30\n",
    "\n",
    "for key in data_timeseries:\n",
    "    print(key)\n",
    "    time_offset = equilibration_duration + reverse_duration + forward_durations[key] - 0.25\n",
    "    plot.add_trace(time=times[key] - time_offset,\n",
    "                   diode_current=diode_currents[key]/1e-6,\n",
    "                   label=forward_durations[key],)\n",
    "\n",
    "colors_experiment = ['#2ca02c', '#8c564b', '#9467bd', '#d62728', '#ff7f0e', '#1f77b4']\n",
    "\n",
    "plot.colors = plotting.plots.itertools.cycle(colors_experiment)\n",
    "\n",
    "for column in data_berggren['BM1P']:\n",
    "    if 'Current' not in column:\n",
    "        continue\n",
    "\n",
    "    print(column)\n",
    "    data = bokeh.models.ColumnDataSource({'time': data_berggren.index, 'diode_current': data_berggren['BM1P', column]/1e-6})\n",
    "    plot.add_trace(column_data_source=data,\n",
    "                   label=key,\n",
    "                   style={'type': 'experiment'})\n"
   ]
  },
  {
   "cell_type": "code",
   "execution_count": null,
   "id": "b9bc71e4-9202-4d93-bcda-b36c433d05bc",
   "metadata": {},
   "outputs": [],
   "source": [
    "plot.figures['time', 'diode_current'].y_range.start = -0.8\n",
    "plot.figures['time', 'diode_current'].y_range.end = 0.5\n",
    "plot.figures['time', 'diode_current'].x_range.start = -100\n",
    "plot.figures['time', 'diode_current'].x_range.end = 70\n",
    "#plot.figures['time', 'diode_current'].yaxis.formatter.precision = 2\n",
    "plot.figures['time', 'diode_current'].legend.padding = 5\n",
    "plot.figures['time', 'diode_current'].legend.spacing = -5\n",
    "plot.figures['time', 'diode_current'].output_backend = 'svg'\n"
   ]
  },
  {
   "cell_type": "code",
   "execution_count": null,
   "id": "0f9b07ed-27f0-4169-b274-c8a81ae9c0b1",
   "metadata": {},
   "outputs": [],
   "source": [
    "bokeh.io.show(plot.layout)"
   ]
  },
  {
   "cell_type": "raw",
   "id": "01392603-5910-43e5-a1d4-91c94419fde4",
   "metadata": {},
   "source": [
    "bokeh.io.export_svg(plot.layout,\n",
    "                    filename = './Figures/Single Diode/raw_response_part_berggren.svg',\n",
    "                    webdriver=driver)"
   ]
  },
  {
   "cell_type": "markdown",
   "id": "4cbaf1b5-c4d2-4e42-8fd3-ab26ff99f90e",
   "metadata": {},
   "source": [
    "### Yossifon"
   ]
  },
  {
   "cell_type": "code",
   "execution_count": null,
   "id": "5fd19ef9-50e5-4a8e-8ab3-e85ff58610e1",
   "metadata": {},
   "outputs": [],
   "source": [
    "# Read in literature values:\n",
    "data_yossifon = pd.read_csv('./Literature Data/Yossifon Single Diode/Current vs Time.csv', names=['time', 'current'])"
   ]
  },
  {
   "cell_type": "code",
   "execution_count": null,
   "id": "670553b8-d231-44c0-a55c-aac076706eba",
   "metadata": {},
   "outputs": [],
   "source": [
    "#results = {}\n",
    "\n",
    "filepath = './Simulation Datafiles/Yossifon_Single_Diode.h5'\n",
    "\n",
    "with pd.HDFStore(filepath) as store:\n",
    "\n",
    "    data_timeseries = store[f'Simulation/timeseries']\n",
    "    data_parameters = store[f'Simulation/parameters']\n"
   ]
  },
  {
   "cell_type": "code",
   "execution_count": null,
   "id": "0c4cf454-b928-4d7f-aa52-f34d450d2eed",
   "metadata": {},
   "outputs": [],
   "source": [
    "plot = DiodeComparison(arrangement=[{'x':'time',\n",
    "                                            'y':['diode_current']}],\n",
    "                              x_labels={'time': \" \"},\n",
    "                              y_labels = {'diode_current': \" \"},\n",
    "                              height = 276,\n",
    "                              width = 340)\n",
    "\n",
    "plot.add_trace(time=data_timeseries.reset_index()['time']-2200,\n",
    "                   diode_current=data_timeseries['diode.i']/1e-6,\n",
    "                   label='Simulation',\n",
    "                   style={'line_color':'black'})\n",
    "\n",
    "plot.add_trace(time = data_yossifon['time']-1400,\n",
    "               diode_current = data_yossifon['current']/1e-6,\n",
    "               label=key,\n",
    "               style={'type': 'experiment', 'line_color':'black'})\n",
    "\n",
    "plot.figures['time', 'diode_current'].y_range.start = -3.5\n",
    "plot.figures['time', 'diode_current'].y_range.end = 2.5\n",
    "plot.figures['time', 'diode_current'].x_range.start = 320-600\n",
    "plot.figures['time', 'diode_current'].x_range.end = 800-600\n",
    "plot.figures['time', 'diode_current'].yaxis.formatter.precision = 0\n",
    "plot.figures['time', 'diode_current'].legend.padding = 5\n",
    "plot.figures['time', 'diode_current'].legend.spacing = -5\n",
    "plot.figures['time', 'diode_current'].output_backend = 'svg'\n",
    "\n",
    "bokeh.io.show(plot.layout)"
   ]
  },
  {
   "cell_type": "raw",
   "id": "ed744c84-57f9-4006-b94f-34cbb4c32011",
   "metadata": {},
   "source": [
    "bokeh.io.export_svg(plot.layout,\n",
    "                    filename = './Figures/Single Diode/raw_response_part_yossifon.svg',\n",
    "                    webdriver=driver)\n"
   ]
  },
  {
   "cell_type": "markdown",
   "id": "c6be3021-eb8a-4312-ba64-aa967aad25f7",
   "metadata": {},
   "source": [
    "## Full Wave Rectifier"
   ]
  },
  {
   "cell_type": "code",
   "execution_count": null,
   "id": "0e42e978-df40-44a0-ad76-2ab4722a74a6",
   "metadata": {},
   "outputs": [],
   "source": [
    "# Read in literature values:\n",
    "data_berggren_full_wave_current_in = pd.read_csv('./Literature Data/Berggren Full Wave Rectifier/I_in.csv', names=['time', 'current_in'])\n",
    "data_berggren_full_wave_current_out = pd.read_csv('./Literature Data/Berggren Full Wave Rectifier/I_out.csv', names=['time', 'current_out'])\n",
    "\n",
    "data_berggren_full_wave = pd.merge(data_berggren_full_wave_current_in, data_berggren_full_wave_current_out, 'outer')\n"
   ]
  },
  {
   "cell_type": "code",
   "execution_count": null,
   "id": "b3b22e02-d4a6-4e09-a3d0-b1c68565d897",
   "metadata": {},
   "outputs": [],
   "source": [
    "#results = {}\n",
    "\n",
    "filepath = './Simulation Datafiles/Berggren_Full_Wave.h5'\n",
    "\n",
    "with pd.HDFStore(filepath) as store:\n",
    "\n",
    "    data_timeseries = store[f'Simulation/timeseries']\n",
    "    data_parameters = store[f'Simulation/parameters']\n"
   ]
  },
  {
   "cell_type": "code",
   "execution_count": null,
   "id": "459f4e44-b2e6-4cf1-84c7-2a15c5e780b6",
   "metadata": {},
   "outputs": [],
   "source": [
    "plot_current = bokeh.plotting.figure(height = 170, width = 285)\n",
    "\n",
    "plot_current.line(x=data_timeseries.reset_index()['time'],\n",
    "                  y=data_timeseries['load.i']/1e-6,\n",
    "                  **style_line_simulation,\n",
    "                  legend_label = 'Simulation',\n",
    "                  color = 'black'\n",
    "                 )\n",
    "\n",
    "plot_current.line(x = data_berggren_full_wave['time'],\n",
    "                  y = data_berggren_full_wave['current_out']/1e-6,\n",
    "                  **style_line_experiment,\n",
    "                  legend_label = 'Experiment',\n",
    "                  color='black'\n",
    "              )\n",
    "\n",
    "plot_voltage = bokeh.plotting.figure(height = 50, width = 285)\n",
    "plot_voltage.x_range = plot_current.x_range\n",
    "\n",
    "\n",
    "plot_voltage.line(x=data_timeseries.reset_index()['time'],\n",
    "                  y=data_timeseries['trapezoidVoltage.v'],\n",
    "                  **style_line_simulation,\n",
    "                  color = 'black'\n",
    "                 )\n",
    "\n",
    "layout = bokeh.layouts.gridplot(children = [[plot_voltage],\n",
    "                                          [plot_current]],\n",
    "                               )"
   ]
  },
  {
   "cell_type": "code",
   "execution_count": null,
   "id": "725a474c-7848-4809-b3e1-adcf96e85383",
   "metadata": {},
   "outputs": [],
   "source": [
    "plot_current.y_range.start = -5e-1\n",
    "plot_current.y_range.end = 4.5e-1\n",
    "plot_current.x_range.start = -30\n",
    "plot_current.x_range.end = 1000\n",
    "plot_current.legend.location = 'bottom_right'\n",
    "plot_current.legend.padding = 5\n",
    "plot_current.legend.spacing = -5\n",
    "plot_current.output_backend = 'svg'\n",
    "plot_current.yaxis.formatter.precision = 2\n",
    "\n",
    "plot_voltage.yaxis.ticker = [-4,0,4]\n",
    "plot_voltage.xaxis.visible = False\n",
    "plot_voltage.y_range.start = -5\n",
    "plot_voltage.y_range.end = 5\n",
    "plot_voltage.output_backend = 'svg'\n"
   ]
  },
  {
   "cell_type": "code",
   "execution_count": null,
   "id": "5d7338b2-df62-497f-9245-bdf912d6c6df",
   "metadata": {
    "scrolled": true
   },
   "outputs": [],
   "source": [
    "bokeh.io.show(layout)"
   ]
  },
  {
   "cell_type": "raw",
   "id": "c19fd004-a96f-4c8d-bb8a-78835d4863a6",
   "metadata": {
    "scrolled": true
   },
   "source": [
    "bokeh.io.export_svg(layout,\n",
    "                    filename = './Figures/Full Wave Rectifier/raw_full_wave_berggren.svg',\n",
    "                    webdriver=driver)\n"
   ]
  },
  {
   "cell_type": "markdown",
   "id": "becde464-50d9-456d-9c19-d9d0d879fa2f",
   "metadata": {},
   "source": [
    "## AND Gate"
   ]
  },
  {
   "cell_type": "code",
   "execution_count": null,
   "id": "e5d46a76-cce9-4056-ac04-814169222a6c",
   "metadata": {},
   "outputs": [],
   "source": [
    "# Read in literature values:\n",
    "data_yossifon_and_gate_voltage= pd.read_csv('./Literature Data/Yossifon AND Gate/Current.csv', names=['time', 'voltage'])\n"
   ]
  },
  {
   "cell_type": "code",
   "execution_count": null,
   "id": "1a980320-080d-48d4-a39d-7299f9e094da",
   "metadata": {},
   "outputs": [],
   "source": [
    "#results = {}\n",
    "\n",
    "filepath = './Simulation Datafiles/Yossifon_AND_Gate.h5'\n",
    "\n",
    "with pd.HDFStore(filepath) as store:\n",
    "    \n",
    "    data_no_leak_timeseries = store[f'Simulation_No_Leak/timeseries']\n",
    "    data_no_leak_parameters = store[f'Simulation_No_Leak/parameters']\n",
    "\n",
    "    data_leak_timeseries = store[f'Simulation_Leak/timeseries']\n",
    "    data_leak_parameters = store[f'Simulation_Leak/parameters']"
   ]
  },
  {
   "cell_type": "code",
   "execution_count": null,
   "id": "2c8da356-a6d8-4dce-b82b-05b2da5b82d7",
   "metadata": {},
   "outputs": [],
   "source": [
    "plot_voltage_out = bokeh.plotting.figure(height = 190, width = 278)\n",
    "\n",
    "plot_voltage_out.line(x=data_no_leak_timeseries.reset_index()['time'],\n",
    "                  y=data_no_leak_timeseries['gate.volume_center.port.V'],\n",
    "                  **style_line_simulation,\n",
    "                  legend_label = 'Simulation',\n",
    "                  color = 'black'\n",
    "                 )\n",
    "\n",
    "plot_voltage_out.line(x = data_yossifon_and_gate_voltage['time'],\n",
    "                  y = data_yossifon_and_gate_voltage['voltage'],\n",
    "                  **style_line_experiment,\n",
    "                  legend_label = 'Experiment',\n",
    "                  color='black'\n",
    "              )\n",
    "\n",
    "plot_voltage_in = bokeh.plotting.figure(height = 50, width = 278)\n",
    "plot_voltage_in.x_range = plot_voltage_out.x_range\n",
    "\n",
    "plot_voltage_in.line(x=data_no_leak_timeseries.reset_index()['time'],\n",
    "                  y=data_no_leak_timeseries['source_a.v'],\n",
    "                  **style_line_simulation,\n",
    "                  color = '#1f77b4'\n",
    "                 )\n",
    "\n",
    "plot_voltage_in.line(x=data_no_leak_timeseries.reset_index()['time'],\n",
    "                  y=data_no_leak_timeseries['source_b.v'],\n",
    "                  **style_line_simulation,\n",
    "                  color = '#ff7f0eff'\n",
    "                 )\n",
    "\n",
    "layout = bokeh.layouts.gridplot(children = [[plot_voltage_in],\n",
    "                                          [plot_voltage_out]],\n",
    "                               )"
   ]
  },
  {
   "cell_type": "code",
   "execution_count": null,
   "id": "3e4891f8-0b68-456e-8cbd-f00738649341",
   "metadata": {},
   "outputs": [],
   "source": [
    "plot_voltage_out.y_range.start = -0.1\n",
    "plot_voltage_out.y_range.end = 1.1\n",
    "#plot.figures['time', 'diode_current'].x_range.start = -5\n",
    "plot_voltage_out.x_range.end = 1200\n",
    "plot_voltage_out.legend.location = 'top_right'\n",
    "plot_voltage_out.legend.padding = 5\n",
    "plot_voltage_out.legend.spacing = -5\n",
    "plot_voltage_out.output_backend = 'svg'\n",
    "\n",
    "plot_voltage_in.yaxis.ticker = [0,1]\n",
    "plot_voltage_in.xaxis.visible = False\n",
    "plot_voltage_in.y_range.start = -0.5\n",
    "plot_voltage_in.y_range.end = 1.5\n",
    "plot_voltage_in.output_backend = 'svg'"
   ]
  },
  {
   "cell_type": "code",
   "execution_count": null,
   "id": "f1cdc8a7-af75-46f1-8253-dfc29565a5c3",
   "metadata": {},
   "outputs": [],
   "source": [
    "bokeh.io.show(layout)"
   ]
  },
  {
   "cell_type": "raw",
   "id": "9612185f-79bb-48f3-8aec-6306534919b2",
   "metadata": {
    "scrolled": true
   },
   "source": [
    "bokeh.io.export_svg(layout,\n",
    "                    filename = './Figures/AND Gate/raw_AND_yossifon.svg',\n",
    "                    webdriver=driver)\n"
   ]
  },
  {
   "cell_type": "code",
   "execution_count": null,
   "id": "6065adaf-1aec-4977-8884-ec4598e3d504",
   "metadata": {},
   "outputs": [],
   "source": [
    "# Read in literature values:\n",
    "data_yossifon_and_gate_voltage= pd.read_csv('./Literature Data/Yossifon AND Gate/Current.csv', names=['time', 'voltage'])\n"
   ]
  },
  {
   "cell_type": "markdown",
   "id": "6eda9906-007f-4a08-bc4a-13163190f22a",
   "metadata": {},
   "source": [
    "## AND Gate with Leakage"
   ]
  },
  {
   "cell_type": "code",
   "execution_count": null,
   "id": "59f309fd-d234-474f-a76b-4cd067619c16",
   "metadata": {},
   "outputs": [],
   "source": [
    "#results = {}\n",
    "\n",
    "filepath = './Simulation Datafiles/Yossifon_AND_Gate.h5'\n",
    "\n",
    "with pd.HDFStore(filepath) as store:\n",
    "    \n",
    "    data_no_leak_timeseries = store[f'Simulation_No_Leak/timeseries']\n",
    "    data_no_leak_parameters = store[f'Simulation_No_Leak/parameters']\n",
    "\n",
    "    data_leak_timeseries = store[f'Simulation_Leak/timeseries']\n",
    "    data_leak_parameters = store[f'Simulation_Leak/parameters']"
   ]
  },
  {
   "cell_type": "code",
   "execution_count": null,
   "id": "eeaecaa4-0e8b-4bbb-8947-2aea2273e845",
   "metadata": {},
   "outputs": [],
   "source": [
    "plot_voltage_out = bokeh.plotting.figure(height = 300, width = 600)\n",
    "\n",
    "colors = bokeh.palettes.Category10_10\n",
    "\n",
    "plot_voltage_out.line(x=data_leak_timeseries.reset_index()['time']-800,\n",
    "                  y=data_leak_timeseries['gate.volume_center.port.V'],\n",
    "                  **style_line_simulation,\n",
    "                  legend_label = 'Simulation With Leakage',\n",
    "                  color = colors[2]\n",
    "                 )\n",
    "\n",
    "plot_voltage_out.line(x=data_no_leak_timeseries.reset_index()['time'],\n",
    "                  y=data_no_leak_timeseries['gate.volume_center.port.V'],\n",
    "                  **style_line_simulation,\n",
    "                  legend_label = 'Simulation Without Leakage',\n",
    "                  color = colors[4]\n",
    "                 )\n",
    "\n",
    "plot_voltage_out.line(x = data_yossifon_and_gate_voltage['time'],\n",
    "                  y = data_yossifon_and_gate_voltage['voltage'],\n",
    "                  **style_line_experiment,\n",
    "                  legend_label = 'Experiment',\n",
    "                  color='black'\n",
    "              )\n",
    "\n",
    "plot_voltage_in = bokeh.plotting.figure(height = 50, width = 600)\n",
    "plot_voltage_in.x_range = plot_voltage_out.x_range\n",
    "\n",
    "plot_voltage_in.line(x=data_leak_timeseries.reset_index()['time']-800,\n",
    "                  y=data_leak_timeseries['source_a.v'],\n",
    "                  **style_line_simulation,\n",
    "                  color = '#1f77b4'\n",
    "                 )\n",
    "\n",
    "plot_voltage_in.line(x=data_leak_timeseries.reset_index()['time']-800,\n",
    "                  y=data_leak_timeseries['source_b.v'],\n",
    "                  **style_line_simulation,\n",
    "                  color = '#ff7f0eff'\n",
    "                 )\n",
    "\n",
    "layout = bokeh.layouts.gridplot(children = [[plot_voltage_in],\n",
    "                                          [plot_voltage_out]],\n",
    "                               )"
   ]
  },
  {
   "cell_type": "code",
   "execution_count": null,
   "id": "495b2047-81d6-427f-83f9-837d91b9abf4",
   "metadata": {},
   "outputs": [],
   "source": [
    "plot_voltage_out.y_range.start = -0.1\n",
    "plot_voltage_out.y_range.end = 1.15\n",
    "#plot.figures['time', 'diode_current'].x_range.start = -5\n",
    "plot_voltage_out.x_range.end = 1200\n",
    "plot_voltage_out.x_range.start = -50\n",
    "plot_voltage_out.legend.location = 'top_right'\n",
    "plot_voltage_out.legend.padding = 5\n",
    "plot_voltage_out.legend.spacing = -5\n",
    "plot_voltage_out.output_backend = 'svg'\n",
    "\n",
    "plot_voltage_in.yaxis.ticker = [0,1]\n",
    "plot_voltage_in.xaxis.visible = False\n",
    "plot_voltage_in.y_range.start = -0.5\n",
    "plot_voltage_in.y_range.end = 1.5\n",
    "plot_voltage_in.output_backend = 'svg'"
   ]
  },
  {
   "cell_type": "code",
   "execution_count": null,
   "id": "a3efca3c-3a52-49d1-ad43-f55e188f3331",
   "metadata": {},
   "outputs": [],
   "source": [
    "bokeh.io.show(layout)"
   ]
  },
  {
   "cell_type": "raw",
   "id": "dd5c465f-a9a9-44b1-9cba-c50958a2c1f8",
   "metadata": {
    "scrolled": true
   },
   "source": [
    "bokeh.io.export_svg(layout,\n",
    "                    filename = './Figures/AND Gate/raw_AND_yossifon_leaking.svg',\n",
    "                    webdriver=driver)"
   ]
  },
  {
   "cell_type": "markdown",
   "id": "380758c5-513c-4abb-81e7-e949f99268d0",
   "metadata": {},
   "source": [
    "## Soft Robot Circuit"
   ]
  },
  {
   "cell_type": "markdown",
   "id": "317ab1b9-9c23-4a05-af3e-1448770d65ca",
   "metadata": {},
   "source": [
    "### Concentration Sweep"
   ]
  },
  {
   "cell_type": "code",
   "execution_count": null,
   "id": "0932e8d3-24c4-4bf8-8d1c-e761b97ef53b",
   "metadata": {},
   "outputs": [],
   "source": [
    "concentrations = np.logspace(0, 3.5, 20)\n",
    "\n",
    "filepath_output = './Simulation Datafiles/Robot_Brain.h5'\n",
    "concentration_averages = {}\n",
    "\n",
    "with pd.HDFStore(filepath_output) as store:\n",
    "    for c in concentrations:\n",
    "        timeseries = store[f'{c}/timeseries']\n",
    "        parameters = store[f'{c}/parameters']\n",
    "\n",
    "        mols = 0\n",
    "        volume_total = 0\n",
    "        for i in range(1,4):\n",
    "            volume = parameters.loc[f'actuator_bilayer.volumes[{i}].volume'].value\n",
    "            volume_total += volume\n",
    "            mols += timeseries[f'actuator_bilayer.C1[{i}]']*volume\n",
    "        \n",
    "        concentration_averages[c] = (mols/volume_total)\n",
    "\n",
    "        #save memory \n",
    "        del timeseries\n",
    "        del parameters\n",
    "\n",
    "concentration_averages_frame = pd.DataFrame.from_dict(concentration_averages)\n"
   ]
  },
  {
   "cell_type": "code",
   "execution_count": null,
   "id": "738b0751-ddbf-4cfe-ad85-61031278875f",
   "metadata": {},
   "outputs": [],
   "source": [
    "periods = {}\n",
    "for c in concentration_averages:\n",
    "    concentration = concentration_averages[c].loc[10000:]\n",
    "    \n",
    "    peak_indices = scipy.signal.find_peaks(concentration, prominence=2)[0]\n",
    "    # plt.plot(peak_indices, concentration.values[peak_indices], '.')\n",
    "    # plt.plot(concentration.values, 'orange')\n",
    "    # plt.show()\n",
    "    # window = scipy.signal.windows.blackman(concentration_average.shape[-1])\n",
    "    # concentration_fft = scipy.fft.fft(concentration_average.values*window)\n",
    "    # concentration_fft_freq = scipy.fft.fftfreq(concentration_average.shape[-1])\n",
    "    # concentration_fft_period = 1/concentration_fft_freq\n",
    "    \n",
    "    peak_times = concentration.index[peak_indices]\n",
    "    peak_time_deltas = np.diff(peak_times)\n",
    "    print(peak_time_deltas)\n",
    "\n",
    "    # Take the average of the penultimate 5 peaks.\n",
    "    periods[c] = np.mean(np.sort(peak_time_deltas)[-6:-1])\n",
    "\n",
    "periods = pd.DataFrame.from_dict(periods, orient='index')"
   ]
  },
  {
   "cell_type": "code",
   "execution_count": null,
   "id": "23ec0bfb-907a-4a5b-a454-d86a82f6acc0",
   "metadata": {},
   "outputs": [],
   "source": [
    "plot_sensor_sensitivity = bokeh.plotting.figure(height = 300, width = 600, x_axis_type = 'log')\n",
    "\n",
    "plot_sensor_sensitivity.line(x = periods.index, y=periods/60, line_width=2,)\n",
    "#plot_sensor_sensitivity.add_layout(bokeh.models.Span(location = np.log10(3), dimension = 'height', line_dash = [2, 2]))\n",
    "#plot_sensor_sensitivity.add_layout(bokeh.models.Span(location = np.log10(30), dimension = 'height', line_dash = [2, 2]))\n",
    "\n",
    "\n",
    "plot_sensor_sensitivity.output_backend = 'svg'"
   ]
  },
  {
   "cell_type": "code",
   "execution_count": null,
   "id": "2950021e-1a95-47f0-ac81-368bdaf4fe72",
   "metadata": {},
   "outputs": [],
   "source": [
    "bokeh.io.show(plot_sensor_sensitivity)"
   ]
  },
  {
   "cell_type": "raw",
   "id": "bb8bbfd8-ba8a-444d-9b9b-4c6fd04cb720",
   "metadata": {},
   "source": [
    "bokeh.io.export_svg(plot_sensor_sensitivity,\n",
    "                    filename = './Figures/Robot Brain/raw_sensor_sensitivity.svg',\n",
    "                    webdriver=driver)"
   ]
  },
  {
   "cell_type": "markdown",
   "id": "69a52b9a-ed36-49cd-9d53-1373be27e3f5",
   "metadata": {},
   "source": [
    "### Shared Settings"
   ]
  },
  {
   "cell_type": "code",
   "execution_count": null,
   "id": "eb7e89bf-f0d7-46df-af90-3cbcb1a6a9de",
   "metadata": {},
   "outputs": [],
   "source": [
    "filepath = './Simulation Datafiles/Robot_Brain_Dynamic.h5'\n",
    "\n",
    "with pd.HDFStore(filepath) as store:\n",
    "    timeseries = store[f'timeseries']\n",
    "    parameters = store[f'parameters']\n"
   ]
  },
  {
   "cell_type": "code",
   "execution_count": null,
   "id": "6ce7a5e8-49c5-418e-9b65-fdcd3a8d59ee",
   "metadata": {},
   "outputs": [],
   "source": [
    "colors = bokeh.palettes.Category10_10\n",
    "\n",
    "time_start = 7060\n",
    "time_end = 29898\n",
    "\n",
    "time_min = (timeseries.index - time_start)/60\n",
    "time_min_end = (time_end-time_start)/60\n",
    "\n",
    "\n",
    "span_concentration_change_start = bokeh.models.Span(location = (11000-time_start)/60, dimension='height', line_dash = [2, 2])\n",
    "span_concentration_change_start.level = 'underlay'\n",
    "span_concentration_change_end = bokeh.models.Span(location = (26000-time_start)/60, dimension='height',  line_dash = [2, 2])\n",
    "span_concentration_change_end.level = 'underlay'"
   ]
  },
  {
   "cell_type": "markdown",
   "id": "0b02397e-7be1-4b86-bb46-cadccfa1a539",
   "metadata": {},
   "source": [
    "### Supply"
   ]
  },
  {
   "cell_type": "code",
   "execution_count": null,
   "id": "a4cb6058-f706-4f0d-9635-6be440863649",
   "metadata": {},
   "outputs": [],
   "source": [
    "plot_supply = bokeh.plotting.figure(height = 150, width = 340)\n",
    "\n",
    "plot_supply.line(x = time_min,\n",
    "                  y = -timeseries['source_anions.V_delta'],\n",
    "                  line_width=2,\n",
    "                  legend_label = 'Cl- Source',\n",
    "                  color=colors[0]\n",
    "              )\n",
    "\n",
    "plot_supply.line(x = time_min,\n",
    "                  y = timeseries['source_cations.V_delta'],\n",
    "                  line_width=2,\n",
    "                  legend_label = 'Na+ Source',\n",
    "                  color=colors[1],\n",
    "                  #line_dash = [0, 4],\n",
    "                  line_cap = 'round',\n",
    "              )\n",
    "\n",
    "plot_supply.add_layout(span_concentration_change_start)\n",
    "plot_supply.add_layout(span_concentration_change_end)\n",
    "\n",
    "plot_supply.y_range.start = 0\n",
    "plot_supply.y_range.end = 1.3\n",
    "plot_supply.x_range.start = 0\n",
    "plot_supply.x_range.end = time_min_end\n",
    "plot_supply.legend.location = 'bottom_right'\n",
    "plot_supply.legend.orientation = 'horizontal'\n",
    "plot_supply.legend.padding = 5\n",
    "plot_supply.legend.spacing = 8\n",
    "plot_supply.output_backend = 'svg'"
   ]
  },
  {
   "cell_type": "code",
   "execution_count": null,
   "id": "e706374d-9aab-48f6-8d55-18619a013468",
   "metadata": {},
   "outputs": [],
   "source": [
    "bokeh.io.show(plot_supply)"
   ]
  },
  {
   "cell_type": "raw",
   "id": "c237033c-43d3-4e72-b836-ab2c3053b6fd",
   "metadata": {},
   "source": [
    "bokeh.io.export_svg(plot_supply,\n",
    "                    filename = './Figures/Robot Brain/raw_supply.svg',\n",
    "                    webdriver=driver)"
   ]
  },
  {
   "cell_type": "markdown",
   "id": "b3cdde25-6597-4b9f-9001-59316355f2e2",
   "metadata": {},
   "source": [
    "### Oscillator"
   ]
  },
  {
   "cell_type": "code",
   "execution_count": null,
   "id": "c8409832-e7aa-4186-80e6-3dd9edd6bb1d",
   "metadata": {},
   "outputs": [],
   "source": [
    "plot_oscillator = bokeh.plotting.figure(height = 150, width = 340)\n",
    "\n",
    "\n",
    "plot_oscillator.line(x = time_min,\n",
    "                  y = -timeseries['oscillator_b_npn.source_prism.i']/1e-6,\n",
    "                  line_width=2,\n",
    "                  legend_label = 'Oscillator L',\n",
    "                  color=colors[0]\n",
    "              )\n",
    "\n",
    "plot_oscillator.line(x = time_min,\n",
    "                  y = -timeseries['oscillator_a_npn.source_prism.i']/1e-6,\n",
    "                  line_width=2,\n",
    "                  legend_label = 'Oscillator R',\n",
    "                  color=colors[1],\n",
    "                  line_dash = [1, 3],\n",
    "                  line_cap = 'round',\n",
    "              )\n",
    "\n",
    "plot_oscillator.add_layout(span_concentration_change_start)\n",
    "plot_oscillator.add_layout(span_concentration_change_end)\n",
    "\n",
    "#plot_oscillator.y_range.start = 0\n",
    "plot_oscillator.y_range.end = 2.0\n",
    "plot_oscillator.x_range.start = 0\n",
    "plot_oscillator.x_range.end = time_min_end\n",
    "plot_oscillator.legend.location = 'top_left'\n",
    "plot_oscillator.legend.orientation = 'horizontal'\n",
    "plot_oscillator.legend.padding = 5\n",
    "plot_oscillator.legend.spacing = 8\n",
    "#plot_oscillator.legend.label_height = 5\n",
    "plot_oscillator.output_backend = 'svg'"
   ]
  },
  {
   "cell_type": "code",
   "execution_count": null,
   "id": "4f8ee37a-257e-4f5e-891d-9f30e44fcece",
   "metadata": {},
   "outputs": [],
   "source": [
    "bokeh.io.show(plot_oscillator)"
   ]
  },
  {
   "cell_type": "raw",
   "id": "388e120d-3e40-4375-9670-50117f198f03",
   "metadata": {
    "scrolled": true
   },
   "source": [
    "bokeh.io.export_svg(plot_oscillator,\n",
    "                    filename = './Figures/Robot Brain/raw_oscillator.svg',\n",
    "                    webdriver=driver)"
   ]
  },
  {
   "cell_type": "markdown",
   "id": "9442e833-260c-4c01-bddf-53d7eb99bc62",
   "metadata": {},
   "source": [
    "### Actuator"
   ]
  },
  {
   "cell_type": "code",
   "execution_count": null,
   "id": "a3562ea7-04f4-4dd7-8221-b84d29ce1159",
   "metadata": {},
   "outputs": [],
   "source": [
    "colors = bokeh.palettes.Category10_10\n",
    "plot_actuator = bokeh.plotting.figure(height = 150, width = 340)\n",
    "\n",
    "plot_actuator.line(x = time_min,\n",
    "                  y = timeseries['actuator_bilayer.C1[2]'],\n",
    "                  line_width=2,\n",
    "                  #legend_label = 'Chlorine Source',\n",
    "                  color=colors[0]\n",
    "              )\n",
    "\n",
    "plot_actuator.add_layout(span_concentration_change_start)\n",
    "plot_actuator.add_layout(span_concentration_change_end)\n",
    "\n",
    "plot_actuator.y_range.start = 15\n",
    "plot_actuator.y_range.end = 60\n",
    "plot_actuator.x_range.start = 0\n",
    "plot_actuator.x_range.end = time_min_end\n",
    "#plot_supply.legend.location = 'bottom_right'\n",
    "#plot_supply.legend.padding = 5\n",
    "#plot_supply.legend.spacing = -5\n",
    "plot_actuator.output_backend = 'svg'"
   ]
  },
  {
   "cell_type": "code",
   "execution_count": null,
   "id": "864ca17f-4c88-4bbd-8f61-0d20401a5c24",
   "metadata": {},
   "outputs": [],
   "source": [
    "bokeh.io.show(plot_actuator)"
   ]
  },
  {
   "cell_type": "raw",
   "id": "9d32290d-d00f-4d7a-99d6-5a162d21f468",
   "metadata": {
    "scrolled": true
   },
   "source": [
    "bokeh.io.export_svg(plot_actuator,\n",
    "                    filename = './Figures/Robot Brain/raw_actuator.svg',\n",
    "                    webdriver=driver)"
   ]
  },
  {
   "cell_type": "markdown",
   "id": "ef1c04e1-fbd6-427f-b444-9e14949422de",
   "metadata": {},
   "source": [
    "### Sensor"
   ]
  },
  {
   "cell_type": "code",
   "execution_count": null,
   "id": "9da470df-9e7d-4c34-8fd4-7788350fbd8e",
   "metadata": {},
   "outputs": [],
   "source": [
    "plot_sensor_input = bokeh.plotting.figure(height = 50, width = 320)\n",
    "\n",
    "plot_sensor_input.line(x = time_min,\n",
    "                  y = timeseries['sensor_concentration_world.Ci[1]'],\n",
    "                  line_width=2,\n",
    "                  #legend_label = 'Chlorine Source',\n",
    "                  color=colors[0]\n",
    "              )\n",
    "\n",
    "\n",
    "plot_sensor_output = bokeh.plotting.figure(height = 100, width = 320)\n",
    "\n",
    "\n",
    "plot_sensor_output.line(x = time_min,\n",
    "                  y = timeseries['sensor_wire_a.i']/1e-9,\n",
    "                  line_width=2,\n",
    "                  #legend_label = 'Chlorine Source',\n",
    "                  color=colors[0]\n",
    "              )\n",
    "\n",
    "plot_sensor_output.x_range = plot_sensor_input.x_range\n",
    "\n",
    "\n",
    "plot_sensor = bokeh.layouts.gridplot(children = [[plot_sensor_input],\n",
    "                                          [plot_sensor_output]],\n",
    "                               )\n",
    "\n",
    "plot_sensor_output.add_layout(span_concentration_change_start)\n",
    "plot_sensor_output.add_layout(span_concentration_change_end)\n",
    "plot_sensor_input.add_layout(span_concentration_change_start)\n",
    "plot_sensor_input.add_layout(span_concentration_change_end)\n",
    "\n",
    "\n",
    "#plot_sensor.y_range.start = 15\n",
    "#plot_sensor.y_range.end = 60\n",
    "plot_sensor_input.yaxis.ticker = [5,50]\n",
    "plot_sensor_input.xaxis.visible = False\n",
    "\n",
    "plot_sensor_input.x_range.start = 0\n",
    "plot_sensor_input.x_range.end = time_min_end\n",
    "#plot_sensor.legend.location = 'bottom_right'\n",
    "#plot_sensor.legend.padding = 5\n",
    "#plot_sensor.legend.spacing = -5\n",
    "\n",
    "plot_sensor_input.output_backend = 'svg'\n",
    "plot_sensor_output.output_backend = 'svg'"
   ]
  },
  {
   "cell_type": "code",
   "execution_count": null,
   "id": "e4fe1b66-666a-4ed0-92fa-0d6bb7ab2952",
   "metadata": {
    "scrolled": true
   },
   "outputs": [],
   "source": [
    "bokeh.io.show(plot_sensor)"
   ]
  },
  {
   "cell_type": "raw",
   "id": "39c33219-57ca-4298-bcb7-e8083f16ddcd",
   "metadata": {
    "scrolled": true
   },
   "source": [
    "bokeh.io.export_svg(plot_sensor,\n",
    "                    filename = './Figures/Robot Brain/raw_sensor.svg',\n",
    "                    webdriver=driver)"
   ]
  },
  {
   "cell_type": "markdown",
   "id": "4a8d3684-4d6c-4ad2-a7ec-305616b2fea1",
   "metadata": {},
   "source": [
    "### Transistor"
   ]
  },
  {
   "cell_type": "markdown",
   "id": "bfd97a40-2d60-4632-bc5c-5b08c9f8c41c",
   "metadata": {},
   "source": [
    "#### Oscillator"
   ]
  },
  {
   "cell_type": "code",
   "execution_count": null,
   "id": "e1a94358-0a3b-41fe-b117-9adb8d588a1d",
   "metadata": {},
   "outputs": [],
   "source": [
    "filepath = './Simulation Datafiles/Robot_Brain_Transistor_Oscillator_Output_Characteristics.h5'\n",
    "\n",
    "with pd.HDFStore(filepath) as store:\n",
    "    timeseries = store[f'timeseries']\n",
    "    parameters = store[f'parameters']"
   ]
  },
  {
   "cell_type": "code",
   "execution_count": null,
   "id": "a2be44f6-84de-43c8-9397-530d49a24592",
   "metadata": {},
   "outputs": [],
   "source": [
    "plot_transistor_output = bokeh.plotting.figure(height = 300, width = 300)\n",
    "\n",
    "plot_transistor_output.line(x = timeseries['V_ds.v'],\n",
    "                  y = -timeseries['electrode_source.i']/1e-6,\n",
    "                  line_width=2,\n",
    "                  #legend_label = 'Chlorine Source',\n",
    "                  color=colors[0]\n",
    "              )\n",
    "\n",
    "#plot_transistor_output.add_layout(span_concentration_change_start)\n",
    "#plot_transistor_output.add_layout(span_concentration_change_end)\n",
    "\n",
    "#plot_transistor_output.y_range.start = 15\n",
    "#plot_transistor_output.y_range.end = 60\n",
    "#plot_transistor_output.x_range.start = 0\n",
    "#plot_transistor_output.x_range.end = time_min_end\n",
    "\n",
    "plot_transistor_output.output_backend = 'svg'"
   ]
  },
  {
   "cell_type": "code",
   "execution_count": null,
   "id": "accd8ddc-b89c-4e48-bc8e-f0d8b29ade36",
   "metadata": {},
   "outputs": [],
   "source": [
    "bokeh.io.show(plot_transistor_output)"
   ]
  },
  {
   "cell_type": "raw",
   "id": "270147d2-98da-4680-a82c-2a72bafc8455",
   "metadata": {
    "scrolled": true
   },
   "source": [
    "bokeh.io.export_svg(plot_transistor_output,\n",
    "                    filename = './Figures/Robot Brain/raw_transistor_oscillator_output_characteristics.svg',\n",
    "                    webdriver=driver)"
   ]
  },
  {
   "cell_type": "code",
   "execution_count": null,
   "id": "b1b36e38-f5f8-4a20-8ba0-1a9df4f121fa",
   "metadata": {},
   "outputs": [],
   "source": [
    "filepath = './Simulation Datafiles/Robot_Brain_Transistor_Oscillator_Current_Amplification.h5'\n",
    "\n",
    "with pd.HDFStore(filepath) as store:\n",
    "    timeseries = store[f'timeseries']\n",
    "    parameters = store[f'parameters']"
   ]
  },
  {
   "cell_type": "code",
   "execution_count": null,
   "id": "fe255fc8-4293-45ca-b474-08890d682a1f",
   "metadata": {},
   "outputs": [],
   "source": [
    "plot_transistor_amplification = bokeh.plotting.figure(height = 300, width = 300)\n",
    "\n",
    "plot_transistor_amplification.line(x = timeseries['V_b.v'],\n",
    "                  y = -timeseries['V_b.i']/1e-6,\n",
    "                  line_width=2,\n",
    "                  legend_label = 'Base Current',\n",
    "                  color=colors[0]\n",
    "              )\n",
    "\n",
    "plot_transistor_amplification.line(x = timeseries['V_b.v'],\n",
    "                  y = -timeseries['V_ds.i']/1e-6,\n",
    "                  line_width=2,\n",
    "                  legend_label = 'Collector Current',\n",
    "                  color=colors[1]\n",
    "              )\n",
    "\n",
    "plot_transistor_amplification.legend.location = 'top_left'\n",
    "plot_transistor_amplification.y_range.start = -0.5\n",
    "plot_transistor_amplification.y_range.end = 5.5\n",
    "plot_transistor_amplification.x_range.start = 0\n",
    "plot_transistor_amplification.x_range.end = 0.55\n",
    "plot_transistor_amplification.output_backend = 'svg'"
   ]
  },
  {
   "cell_type": "code",
   "execution_count": null,
   "id": "40159369-f3e1-4f46-ba69-cdb85709cc27",
   "metadata": {
    "jupyter": {
     "source_hidden": true
    }
   },
   "outputs": [],
   "source": [
    "bokeh.io.show(plot_transistor_amplification)"
   ]
  },
  {
   "cell_type": "raw",
   "id": "a85521f5-a159-4444-84c8-df162522cae3",
   "metadata": {
    "scrolled": true
   },
   "source": [
    "bokeh.io.export_svg(plot_transistor_amplification,\n",
    "                    filename = './Figures/Robot Brain/raw_transistor_oscillator_amplification_characteristic.svg',\n",
    "                    webdriver=driver)"
   ]
  },
  {
   "cell_type": "markdown",
   "id": "e55b83e4-e17e-4cd1-af7b-29c62c0f7883",
   "metadata": {},
   "source": [
    "#### Actuator"
   ]
  },
  {
   "cell_type": "code",
   "execution_count": null,
   "id": "3b7960a4-de74-438a-b3b1-4b9d53412a9c",
   "metadata": {},
   "outputs": [],
   "source": [
    "filepath = './Simulation Datafiles/Robot_Brain_Transistor_Actuator_Output_Characteristics.h5'\n",
    "\n",
    "with pd.HDFStore(filepath) as store:\n",
    "    timeseries = store[f'timeseries']\n",
    "    parameters = store[f'parameters']"
   ]
  },
  {
   "cell_type": "code",
   "execution_count": null,
   "id": "31a74ba5-8360-452c-b2d7-8468fdd51aeb",
   "metadata": {},
   "outputs": [],
   "source": [
    "plot_transistor_output = bokeh.plotting.figure(height = 300, width = 300)\n",
    "\n",
    "plot_transistor_output.line(x = timeseries['V_ds.v'],\n",
    "                  y = -timeseries['electrode_source.i']/1e-6,\n",
    "                  line_width=2,\n",
    "                  #legend_label = 'Chlorine Source',\n",
    "                  color=colors[0]\n",
    "              )\n",
    "\n",
    "#plot_transistor_output.add_layout(span_concentration_change_start)\n",
    "#plot_transistor_output.add_layout(span_concentration_change_end)\n",
    "\n",
    "#plot_transistor_output.y_range.start = 15\n",
    "#plot_transistor_output.y_range.end = 60\n",
    "#plot_transistor_output.x_range.start = 0\n",
    "#plot_transistor_output.x_range.end = time_min_end\n",
    "\n",
    "plot_transistor_output.output_backend = 'svg'"
   ]
  },
  {
   "cell_type": "code",
   "execution_count": null,
   "id": "6bdffd54-7724-4f47-a2a2-2367a67359cf",
   "metadata": {},
   "outputs": [],
   "source": [
    "bokeh.io.show(plot_transistor_output)"
   ]
  },
  {
   "cell_type": "raw",
   "id": "f71a4b93-8082-4293-b52e-a429c2539195",
   "metadata": {
    "scrolled": true
   },
   "source": [
    "bokeh.io.export_svg(plot_transistor_output,\n",
    "                    filename = './Figures/Robot Brain/raw_transistor_actuator_output_characteristics.svg',\n",
    "                    webdriver=driver)"
   ]
  },
  {
   "cell_type": "code",
   "execution_count": null,
   "id": "8971d1e3-18af-4bbe-8fd6-5e6baa004449",
   "metadata": {},
   "outputs": [],
   "source": [
    "filepath = './Simulation Datafiles/Robot_Brain_Transistor_Actuator_Current_Amplification.h5'\n",
    "\n",
    "with pd.HDFStore(filepath) as store:\n",
    "    timeseries = store[f'timeseries']\n",
    "    parameters = store[f'parameters']"
   ]
  },
  {
   "cell_type": "code",
   "execution_count": null,
   "id": "cf34e89c-9521-447c-8608-4f52842c3088",
   "metadata": {},
   "outputs": [],
   "source": [
    "plot_transistor_amplification = bokeh.plotting.figure(height = 300, width = 300)\n",
    "\n",
    "plot_transistor_amplification.line(x = timeseries['V_b.v'],\n",
    "                  y = -timeseries['V_b.i']/1e-6,\n",
    "                  line_width=2,\n",
    "                  legend_label = 'Base Current',\n",
    "                  color=colors[0]\n",
    "              )\n",
    "\n",
    "plot_transistor_amplification.line(x = timeseries['V_b.v'],\n",
    "                  y = -timeseries['V_ds.i']/1e-6,\n",
    "                  line_width=2,\n",
    "                  legend_label = 'Collector Current',\n",
    "                  color=colors[1]\n",
    "              )\n",
    "\n",
    "plot_transistor_amplification.legend.location = 'top_left'\n",
    "plot_transistor_amplification.y_range.start = -0.5\n",
    "plot_transistor_amplification.y_range.end = 10.5\n",
    "plot_transistor_amplification.x_range.start = 0\n",
    "plot_transistor_amplification.x_range.end = 0.55\n",
    "plot_transistor_amplification.output_backend = 'svg'"
   ]
  },
  {
   "cell_type": "code",
   "execution_count": null,
   "id": "0d2e3758-fa62-4093-a015-9b6fc5975daa",
   "metadata": {},
   "outputs": [],
   "source": [
    "bokeh.io.show(plot_transistor_amplification)"
   ]
  },
  {
   "cell_type": "raw",
   "id": "cb1e6fe6-e05c-4d78-8653-1123e252d398",
   "metadata": {
    "scrolled": true
   },
   "source": [
    "bokeh.io.export_svg(plot_transistor_amplification,\n",
    "                    filename = './Figures/Robot Brain/raw_transistor_actuator_amplification_characteristic.svg',\n",
    "                    webdriver=driver)"
   ]
  },
  {
   "cell_type": "markdown",
   "id": "f03639c1-2eb1-48bd-bbaa-eb766b192af5",
   "metadata": {},
   "source": [
    "## Wire Enrichment"
   ]
  },
  {
   "cell_type": "code",
   "execution_count": null,
   "id": "f04c138d-947f-4da5-bb4b-893b85aa6678",
   "metadata": {},
   "outputs": [],
   "source": [
    "filepath = './Simulation Datafiles/Wire_Enrichment.h5'\n",
    "\n",
    "with pd.HDFStore(filepath) as store:\n",
    "    timeseries_charged = store[f'timeseries']\n",
    "    parameters_charged = store[f'parameters']\n",
    "\n",
    "filepath = './Simulation Datafiles/Wire_Enrichment_Uncharged.h5'\n",
    "\n",
    "with pd.HDFStore(filepath) as store:\n",
    "    timeseries_uncharged = store[f'timeseries']\n",
    "    parameters_uncharged = store[f'parameters']"
   ]
  },
  {
   "cell_type": "code",
   "execution_count": null,
   "id": "b6efe6cb-030f-448a-a5be-f3c4e0348b1b",
   "metadata": {},
   "outputs": [],
   "source": [
    "line_dash_uncharged = [4, 4]\n",
    "\n",
    "plot_wire_enrichment_voltage = bokeh.plotting.figure(height = 40, width = 600)\n",
    "\n",
    "plot_wire_enrichment_voltage.line(x = timeseries_charged.index/60,\n",
    "                  y = timeseries_charged['source.v'],\n",
    "                  line_width=2,\n",
    "                  color='black',\n",
    "              )\n",
    "\n",
    "plot_wire_enrichment_current = bokeh.plotting.figure(height = 200, width = 600)\n",
    "\n",
    "plot_wire_enrichment_current.line(x = timeseries_charged.index/60,\n",
    "                  y = -timeseries_charged['source.i']/1e-6,\n",
    "                  line_width=2,\n",
    "                  legend_label = 'Charged',\n",
    "                  color='black',\n",
    "                  line_alpha = 0.6,\n",
    "              )\n",
    "\n",
    "plot_wire_enrichment_current.line(x = timeseries_uncharged.index/60,\n",
    "                  y = -timeseries_uncharged['source.i']/1e-6,\n",
    "                  line_width=2,\n",
    "                  legend_label = 'Uncharged',\n",
    "                  color='black',\n",
    "                  line_dash = line_dash_uncharged,\n",
    "              )\n",
    "\n",
    "for timeseries, parameters in [(timeseries_charged, parameters_charged),\n",
    "                               (timeseries_uncharged, parameters_uncharged)]:\n",
    "\n",
    "    baths = ['bath_a', 'bath_b']\n",
    "    volumes = [1,2,3,4,5]\n",
    "    concentrations = [1]\n",
    "    concentration_names = ['salt']\n",
    "    \n",
    "    for bath in baths:\n",
    "        for index_concentration, concentration_name in zip(concentrations, concentration_names):\n",
    "            timeseries[f'{bath}.{concentration_name}_average'] = 0\n",
    "    \n",
    "            volume_total = 0        \n",
    "            for index_volume in volumes:\n",
    "                volume = parameters.loc[f'{bath}.volumes[{index_volume}].volume'].value\n",
    "                concentration = timeseries[f'{bath}.volumes[{index_volume}].C[{index_concentration}]']\n",
    "                timeseries[f'{bath}.{concentration_name}_average'] += concentration*volume\n",
    "                volume_total += volume\n",
    "            timeseries[f'{bath}.{concentration_name}_average']/= volume_total\n",
    "\n",
    "plot_wire_enrichment_concentration = bokeh.plotting.figure(height = 200, width = 600)\n",
    "\n",
    "plot_wire_enrichment_concentration.line(x = timeseries_charged.index/60,\n",
    "                  y = timeseries_charged['bath_a.salt_average'],\n",
    "                  line_width=2,\n",
    "                  legend_label = 'Charged, Bath A',\n",
    "                  color=colors[2],\n",
    "              )\n",
    "\n",
    "plot_wire_enrichment_concentration.line(x = timeseries_charged.index/60,\n",
    "                  y = timeseries_charged['bath_b.salt_average'],\n",
    "                  line_width=2,\n",
    "                  legend_label = 'Charged, Bath B',\n",
    "                  color=colors[4]\n",
    "              )\n",
    "\n",
    "plot_wire_enrichment_concentration.line(x = timeseries_uncharged.index/60,\n",
    "                  y = timeseries_uncharged['bath_a.salt_average'],\n",
    "                  line_width=2,\n",
    "                  legend_label = 'Uncharged, Both Baths',\n",
    "                  color='black',\n",
    "                  line_dash=line_dash_uncharged,\n",
    "              )\n",
    "\n",
    "# plot_wire_enrichment_current.line(x = timeseries['V_b.v'],\n",
    "#                   y = -timeseries['V_ds.i']/1e-6,\n",
    "#                   line_width=2,\n",
    "#                   legend_label = 'Collector Current',\n",
    "#                   color=colors[1]\n",
    "#               )\n",
    "\n",
    "#plot_wire_enrichment_current.legend.location = 'top_left'\n",
    "#plot_wire_enrichment_current.y_range.start = -0.5\n",
    "#plot_wire_enrichment_current.y_range.end = 5.5\n",
    "#plot_wire_enrichment_current.x_range.start = 0\n",
    "#plot_wire_enrichment_current.x_range.end = 0.55\n",
    "\n",
    "plot_wire_enrichment_voltage.yaxis.ticker = [0,1]\n",
    "plot_wire_enrichment_voltage.xaxis.visible = False\n",
    "plot_wire_enrichment_voltage.output_backend = 'svg'\n",
    "\n",
    "plot_wire_enrichment_concentration.y_range.start = 0.0\n",
    "plot_wire_enrichment_concentration.y_range.end = 24\n",
    "plot_wire_enrichment_concentration.output_backend = 'svg'\n",
    "\n",
    "plot_wire_enrichment_current.xaxis.visible = False\n",
    "plot_wire_enrichment_current.output_backend = 'svg'\n",
    "\n",
    "layout = bokeh.layouts.gridplot(children = [[plot_wire_enrichment_voltage],[plot_wire_enrichment_current],\n",
    "                                          [plot_wire_enrichment_concentration]],\n",
    "                               )\n",
    "\n",
    "bokeh.io.show(layout)"
   ]
  },
  {
   "cell_type": "raw",
   "id": "58be3f93-226a-4720-b2a3-c8ba063317ec",
   "metadata": {},
   "source": [
    "bokeh.io.export_svg(layout,\n",
    "                    filename = './Figures/Demos/raw_wire_enrichment.svg',\n",
    "                    webdriver=driver)"
   ]
  },
  {
   "cell_type": "markdown",
   "id": "5fbb0961-9ac1-4839-8d8b-00ffd18ac930",
   "metadata": {},
   "source": [
    "# Tables"
   ]
  },
  {
   "cell_type": "code",
   "execution_count": null,
   "id": "ca2c21ab-17ae-4ffa-a7c0-689472a95edf",
   "metadata": {},
   "outputs": [],
   "source": [
    "simulation_summary_table = simulation_summaries.copy()\n",
    "\n",
    "def parse_simulation_options(row):\n",
    "    options = row['simulationOptions'].split(', ')\n",
    "    for option in options:\n",
    "        suboptions = option.split(' = ')\n",
    "        match suboptions:\n",
    "            case ['startTime', time_start]:\n",
    "                ...\n",
    "            case ['stopTime', time_end]:\n",
    "                ...\n",
    "            case ['numberOfIntervals', step_count]:\n",
    "                ...\n",
    "\n",
    "    time_simulation = float(time_end)-float(time_start)\n",
    "\n",
    "    output_dict = {'Simulated Time (s)': time_simulation,\n",
    "                   'Simulated Step Count': step_count,\n",
    "                   'Translation Wall Time (s)': row['timeFrontend'] + row['timeBackend'] + row['timeSimCode'] + row['timeTemplates'],\n",
    "                   'Compilation Wall Time (s)': row['timeCompile'],\n",
    "                   'Simulation Wall Time (s)': row['timeSimulation'],\n",
    "                   'Total Wall Time (s)': row['timeTotal'],\n",
    "                   'Time Ratio': time_simulation/row['timeSimulation']\n",
    "                  }\n",
    "\n",
    "    return output_dict\n",
    "            \n",
    "\n",
    "simulation_summary_table = simulation_summary_table.apply(parse_simulation_options, result_type='expand', axis='columns') \n",
    "\n",
    "table_tex = simulation_summary_table.to_latex()"
   ]
  }
 ],
 "metadata": {
  "kernelspec": {
   "display_name": "lumped",
   "language": "python",
   "name": "lumped"
  },
  "language_info": {
   "codemirror_mode": {
    "name": "ipython",
    "version": 3
   },
   "file_extension": ".py",
   "mimetype": "text/x-python",
   "name": "python",
   "nbconvert_exporter": "python",
   "pygments_lexer": "ipython3",
   "version": "3.13.2"
  }
 },
 "nbformat": 4,
 "nbformat_minor": 5
}
